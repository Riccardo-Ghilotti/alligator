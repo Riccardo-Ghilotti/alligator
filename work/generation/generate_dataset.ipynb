{
 "cells": [
  {
   "cell_type": "markdown",
   "id": "d6fd8542-b37c-40ca-8a69-061aba03bb5f",
   "metadata": {},
   "source": [
    "# Generate Training Dataset"
   ]
  },
  {
   "cell_type": "code",
   "execution_count": null,
   "id": "05e9d6d3-f4cd-4421-8831-9d573d43dc65",
   "metadata": {},
   "outputs": [],
   "source": [
    "path = \"data/ml_with_type/10/\"\n",
    "for name in os.listdir(path):\n",
    "    if name.startswith(\".\"):\n",
    "        continue\n",
    "    df = pd.read_csv(f\"{path}/{name}\")\n",
    "    out = []\n",
    "    count = 0\n",
    "    for i, row in enumerate(tqdm(df.values)):\n",
    "        if count < 3:\n",
    "            out.append(row)\n",
    "        elif count == 4:\n",
    "            count = -1\n",
    "        count += 1\n",
    "    pd.DataFrame(out, columns=df.columns).to_csv(f\"data/ml_with_type_new/{name}\", index=None)    "
   ]
  },
  {
   "cell_type": "code",
   "execution_count": 12,
   "id": "f8e478a2-44be-49b4-8cfb-283d0e0e9f4b",
   "metadata": {
    "tags": []
   },
   "outputs": [],
   "source": [
    "\n",
    "import utils.utils as utils"
   ]
  },
  {
   "cell_type": "code",
   "execution_count": null,
   "id": "168fb0f4-a475-407a-b91f-89e3f9c5c61f",
   "metadata": {
    "tags": []
   },
   "outputs": [],
   "source": [
    "import os\n",
    "import pandas as pd\n",
    "import sys \n",
    "sys.path.insert(0, '..')\n",
    "import pandas as pd\n",
    "import utils.utils as utils\n",
    "import json\n",
    "from tqdm import tqdm\n",
    "from process.wrapper import mongodb_conn\n",
    "\n",
    "\n",
    "dataset = {\n",
    "    \"Round1_T2D\": {\n",
    "        \"tables\": \"../data/Dataset/Round1_T2D/tables\",\n",
    "        \"cea\":\"../data/Dataset/Round1_T2D/gt/CEA_Round1_gt_WD.csv\",\n",
    "        \"cpa\":\"../data/Dataset/Round1_T2D/gt/CPA_Round1_gt.csv\",\n",
    "        \"cta\": \"../data/Dataset/Round1_T2D/gt/CTA_Round1_gt.csv\"\n",
    "    },\n",
    "    \"HardTableR2-2021\": {\n",
    "        \"tables\":\"../data/Dataset/HardTablesR2/tables/\", \n",
    "        \"cea\":\"../data/Dataset/HardTablesR2/gt/cea.csv\",\n",
    "        \"cpa\":\"../data/Dataset/HardTablesR2/gt/cpa.csv\",\n",
    "        \"cta\": \"../data/Dataset/HardTablesR2/gt/cta.csv\"\n",
    "    },\n",
    "    \"HardTableR3-2021\": {\n",
    "        \"tables\":\"../data/Dataset/HardTablesR3/tables/\", \n",
    "        \"cea\":\"../data/Dataset/HardTablesR3/gt/cea.csv\",\n",
    "        \"cpa\":\"../data/Dataset/HardTablesR3/gt/cpa.csv\",\n",
    "        \"cta\": \"../data/Dataset/HardTablesR3/gt/cta.csv\"\n",
    "    },\n",
    "    \"Round3\": {\n",
    "        \"tables\": \"../data/Dataset/Round3_2019/tables/\",\n",
    "        \"cea\":\"../data/Dataset/Round3_2019/gt/CEA_Round3_gt_WD.csv\",\n",
    "        \"cpa\":\"../data/Dataset/Round3_2019/gt/CPA_Round3_gt.csv\",\n",
    "        \"cta\": \"../data/Dataset/Round3_2019/gt/CTA_Round3_gt.csv\"\n",
    "    },\n",
    "    \"2T-2020\": {\n",
    "        \"tables\":\"../data/Dataset/2T_Round4/tables/\", \n",
    "        \"cea\":\"../data/Dataset/2T_Round4/gt/cea.csv\",\n",
    "        \"cpa\": None,\n",
    "        \"cta\": \"../data/Dataset/2T_Round4/gt/cta.csv\"\n",
    "    },\n",
    "    \"Round4\": {\n",
    "        \"tables\": \"../data/Dataset/Round4_2020/tables/\",\n",
    "        \"cea\":\"../data/Dataset/Round4_2020/gt/cea.csv\",\n",
    "        \"cpa\":\"../data/Dataset/Round4_2020/gt/cpa.csv\",\n",
    "        \"cta\": \"../data/Dataset/Round4_2020/gt/cta.csv\"\n",
    "    }\n",
    "}\n",
    "\n",
    "\n",
    "for id_dataset in dataset:\n",
    "    tables_path, cea_target_path, cpa_target_path, cta_target_path = list(dataset[id_dataset].values())\n",
    "    cea_gt = utils.get_cea_ann(cea_target_path)"
   ]
  },
  {
   "cell_type": "code",
   "execution_count": 16,
   "id": "319cee64-0200-4622-ac36-fca911c29465",
   "metadata": {
    "tags": []
   },
   "outputs": [
    {
     "name": "stdout",
     "output_type": "stream",
     "text": [
      " app.py\t\t    indexing.ipynb\t   'result_with_type(only test).txt'\n",
      " bash\t\t    model\t\t    scripts\n",
      " data\t\t    notebook.ipynb\t    stats.ipynb\n",
      " data.txt\t    process\t\t    train\n",
      " evaluation.ipynb   __pycache__\t\t    utils\n",
      " generation\t    random_forest.ipynb\n",
      " indexing\t    result_analysis.ipynb\n"
     ]
    }
   ],
   "source": [
    "!ls .."
   ]
  },
  {
   "cell_type": "code",
   "execution_count": 3,
   "id": "9bad7561-b5b2-4cfb-ad33-753d186cb59f",
   "metadata": {
    "tags": []
   },
   "outputs": [
    {
     "name": "stderr",
     "output_type": "stream",
     "text": [
      "  0%|          | 0/9 [00:00<?, ?it/s]\n"
     ]
    }
   ],
   "source": [
    "import os\n",
    "import pandas as pd\n",
    "from tqdm import tqdm\n",
    "\n",
    "\n",
    "dataset1 = [\"HardTableR2-2021_100_m4\", \"HardTableR3-2021_100_m4\", \n",
    "           \"Round1_T2D_100_m4\", \"Round3_100_m4\", \"Round4_100_m4\"]\n",
    "dataset2 = [\"2T-2020_100_m4\", \"HardTableR3-2021_100_m4\", \n",
    "           \"Round1_T2D_100_m4\", \"Round3_100_m4\", \"Round4_100_m4\"]\n",
    "dataset3 = [\"2T-2020_100_m4\", \"HardTableR2-2021_100_m4\", \n",
    "           \"Round1_T2D_100_m4\", \"Round3_100_m4\", \"Round4_100_m4\"]\n",
    "dataset4 = [\"2T-2020_100_m4\", \"HardTableR2-2021_100_m4\", \"HardTableR3-2021_100_m4\", \n",
    "          \"Round3_100_m4\", \"Round4_100_m4\"]\n",
    "dataset5 = [\"2T-2020_100_m4\", \"HardTableR2-2021_100_m4\", \"HardTableR3-2021_100_m4\", \n",
    "           \"Round1_T2D_100_m4\", \"Round4_100_m4\"]\n",
    "dataset6 = [\"2T-2020_100_m4\", \"HardTableR2-2021_100_m4\", \"HardTableR3-2021_100_m4\", \n",
    "           \"Round1_T2D_100_m4\"]\n",
    "\n",
    "combinations = {\n",
    "    \"ALL-2T_2020\": dataset1, \n",
    "    \"ALL-HTR2\": dataset2, \n",
    "    \"ALL-HTR3\": dataset3, \n",
    "    \"ALL-Round1_T2D\": dataset4, \n",
    "    \"ALL-Round3\": dataset5, \n",
    "    \"ALL-Round4\":dataset6\n",
    "}\n",
    "\n",
    "\n",
    "path = \"data/ml_with_type/10/\"\n",
    "for name_file_train in tqdm(combinations):\n",
    "    if name.startswith(\".\"):\n",
    "        continue\n",
    "    buffer = []    \n",
    "    for name in combinations[name_file_train]:   \n",
    "        buffer.append(pd.read_csv(f'{path}/{name}.csv'))\n",
    "    df = pd.concat(buffer, axis=0)\n",
    "    df.drop_duplicates(subset=list(set(df.columns)-set([\"tableName\"])), inplace=True)\n",
    "    df.to_csv(f\"{path}/{name_file_train}\", index=False)"
   ]
  },
  {
   "cell_type": "code",
   "execution_count": 4,
   "id": "5d3deeb7-874a-4b60-8cf5-5611644e34f5",
   "metadata": {
    "tags": []
   },
   "outputs": [
    {
     "data": {
      "text/plain": [
       "{'ALL-2T_2020': ['HardTableR2-2021_100_m4',\n",
       "  'HardTableR3-2021_100_m4',\n",
       "  'Round1_T2D_100_m4',\n",
       "  'Round3_100_m4',\n",
       "  'Round4_100_m4'],\n",
       " 'ALL-HTR2': ['2T-2020_100_m4',\n",
       "  'HardTableR3-2021_100_m4',\n",
       "  'Round1_T2D_100_m4',\n",
       "  'Round3_100_m4',\n",
       "  'Round4_100_m4'],\n",
       " 'ALL-HTR3': ['2T-2020_100_m4',\n",
       "  'HardTableR2-2021_100_m4',\n",
       "  'Round1_T2D_100_m4',\n",
       "  'Round3_100_m4',\n",
       "  'Round4_100_m4'],\n",
       " 'ALL-Round1_T2D': ['2T-2020_100_m4',\n",
       "  'HardTableR2-2021_100_m4',\n",
       "  'HardTableR3-2021_100_m4',\n",
       "  'Round3_100_m4',\n",
       "  'Round4_100_m4'],\n",
       " 'ALL-Round3': ['2T-2020_100_m4',\n",
       "  'HardTableR2-2021_100_m4',\n",
       "  'HardTableR3-2021_100_m4',\n",
       "  'Round1_T2D_100_m4',\n",
       "  'Round4_100_m4'],\n",
       " 'ALL-Round4': ['2T-2020_100_m4',\n",
       "  'HardTableR2-2021_100_m4',\n",
       "  'HardTableR3-2021_100_m4',\n",
       "  'Round1_T2D_100_m4']}"
      ]
     },
     "execution_count": 4,
     "metadata": {},
     "output_type": "execute_result"
    }
   ],
   "source": [
    "combinations"
   ]
  },
  {
   "cell_type": "code",
   "execution_count": 29,
   "id": "016b8013-239a-4eb9-ad31-ce123ea412c8",
   "metadata": {},
   "outputs": [],
   "source": [
    "df = pd.concat(buffer, axis=0)"
   ]
  },
  {
   "cell_type": "code",
   "execution_count": null,
   "id": "7b2fecde-df73-4992-bfd9-382e6bb1378d",
   "metadata": {},
   "outputs": [],
   "source": [
    "df.columns"
   ]
  },
  {
   "cell_type": "code",
   "execution_count": 32,
   "id": "e646bda7-7afa-4a6f-b28e-2e3791da265c",
   "metadata": {},
   "outputs": [
    {
     "name": "stdout",
     "output_type": "stream",
     "text": [
      "<class 'pandas.core.frame.DataFrame'>\n",
      "Int64Index: 28023320 entries, 0 to 14280914\n",
      "Data columns (total 28 columns):\n",
      " #   Column                Dtype  \n",
      "---  ------                -----  \n",
      " 0   tableName             object \n",
      " 1   ntoken                int64  \n",
      " 2   popularity            int64  \n",
      " 3   pos_score             float64\n",
      " 4   es_score              float64\n",
      " 5   es_diff_score         float64\n",
      " 6   ed                    float64\n",
      " 7   jaccard               float64\n",
      " 8   jaccardNgram          float64\n",
      " 9   cosine_similarity     float64\n",
      " 10  p_subj_ne             float64\n",
      " 11  p_subj_lit            float64\n",
      " 12  p_obj_ne              float64\n",
      " 13  desc                  float64\n",
      " 14  descNgram             float64\n",
      " 15  cpa                   float64\n",
      " 16  cpaMax                float64\n",
      " 17  cta                   float64\n",
      " 18  ctaMax                float64\n",
      " 19  neural1_score         float64\n",
      " 20  neural1_score_diff    float64\n",
      " 21  neural2_score         float64\n",
      " 22  neural2_score_diff    float64\n",
      " 23  logistic1_score       float64\n",
      " 24  logistic1_score_diff  float64\n",
      " 25  logistic2_score       float64\n",
      " 26  logistic2_score_diff  float64\n",
      " 27  target                int64  \n",
      "dtypes: float64(24), int64(3), object(1)\n",
      "memory usage: 6.1+ GB\n"
     ]
    }
   ],
   "source": [
    "df.info()"
   ]
  },
  {
   "cell_type": "code",
   "execution_count": 31,
   "id": "c55302f1-3f2e-429c-b1b9-1d727f7f39a6",
   "metadata": {},
   "outputs": [],
   "source": [
    "df.drop_duplicates(subset=list(set(df.columns)-set([\"tableName\"])), inplace=True)"
   ]
  },
  {
   "cell_type": "code",
   "execution_count": 33,
   "id": "d64670c8-cc67-4430-9488-e78823654180",
   "metadata": {},
   "outputs": [],
   "source": [
    "df.to_csv(f\"{path}/final_ml.csv\", index=False)"
   ]
  },
  {
   "cell_type": "code",
   "execution_count": 57,
   "id": "1a9ba6dd-cb4c-4d58-bd07-8cba78df9000",
   "metadata": {},
   "outputs": [],
   "source": [
    "df = pd.read_csv(f\"{path}/final_ml.csv\")"
   ]
  },
  {
   "cell_type": "code",
   "execution_count": null,
   "id": "9caae3f2-a80d-47a5-86d4-7afe84ef689f",
   "metadata": {},
   "outputs": [],
   "source": [
    "new_df = df.drop(columns=['cea',\n",
    "       'cpa', 'cpaMax', 'cta', 'ctaMax', 'diff', 'neural1_score',\n",
    "       'neural1_score_diff', 'neural2_score', 'neural2_score_diff',\n",
    "       'logistic1_score', 'logistic1_score_diff', 'logistic2_score',\n",
    "       'logistic2_score_diff'])"
   ]
  },
  {
   "cell_type": "code",
   "execution_count": 58,
   "id": "edc9a28d-ba14-46a0-963b-83e8b8bf5ca4",
   "metadata": {},
   "outputs": [
    {
     "data": {
      "text/plain": [
       "'data/ml_with_type/2'"
      ]
     },
     "execution_count": 58,
     "metadata": {},
     "output_type": "execute_result"
    }
   ],
   "source": [
    "path"
   ]
  },
  {
   "cell_type": "code",
   "execution_count": 59,
   "id": "f1bb5ff0-5f64-4320-bb9c-c39922e9f862",
   "metadata": {},
   "outputs": [],
   "source": [
    "new_df = df.drop(columns=[\n",
    "       'neural1_score',\n",
    "       'neural1_score_diff',\n",
    "       'neural2_score',\n",
    "       'neural2_score_diff',\n",
    "       #'logistic1_score', \n",
    "       #'logistic1_score_diff',\n",
    "       'logistic2_score',\n",
    "       'logistic2_score_diff'\n",
    "])"
   ]
  },
  {
   "cell_type": "code",
   "execution_count": 60,
   "id": "a2323a6d-c02a-4c80-af96-5732d3c97768",
   "metadata": {},
   "outputs": [
    {
     "data": {
      "text/html": [
       "<div>\n",
       "<style scoped>\n",
       "    .dataframe tbody tr th:only-of-type {\n",
       "        vertical-align: middle;\n",
       "    }\n",
       "\n",
       "    .dataframe tbody tr th {\n",
       "        vertical-align: top;\n",
       "    }\n",
       "\n",
       "    .dataframe thead th {\n",
       "        text-align: right;\n",
       "    }\n",
       "</style>\n",
       "<table border=\"1\" class=\"dataframe\">\n",
       "  <thead>\n",
       "    <tr style=\"text-align: right;\">\n",
       "      <th></th>\n",
       "      <th>tableName</th>\n",
       "      <th>ntoken</th>\n",
       "      <th>popularity</th>\n",
       "      <th>pos_score</th>\n",
       "      <th>es_score</th>\n",
       "      <th>es_diff_score</th>\n",
       "      <th>ed</th>\n",
       "      <th>jaccard</th>\n",
       "      <th>jaccardNgram</th>\n",
       "      <th>cosine_similarity</th>\n",
       "      <th>...</th>\n",
       "      <th>p_obj_ne</th>\n",
       "      <th>desc</th>\n",
       "      <th>descNgram</th>\n",
       "      <th>cpa</th>\n",
       "      <th>cpaMax</th>\n",
       "      <th>cta</th>\n",
       "      <th>ctaMax</th>\n",
       "      <th>logistic1_score</th>\n",
       "      <th>logistic1_score_diff</th>\n",
       "      <th>target</th>\n",
       "    </tr>\n",
       "  </thead>\n",
       "  <tbody>\n",
       "    <tr>\n",
       "      <th>0</th>\n",
       "      <td>52299421_0_4473286348258170200</td>\n",
       "      <td>2</td>\n",
       "      <td>391</td>\n",
       "      <td>0.02</td>\n",
       "      <td>43.16</td>\n",
       "      <td>0.000</td>\n",
       "      <td>1.0</td>\n",
       "      <td>1.0</td>\n",
       "      <td>1.0</td>\n",
       "      <td>1.0</td>\n",
       "      <td>...</td>\n",
       "      <td>0.0</td>\n",
       "      <td>0.0</td>\n",
       "      <td>0.077</td>\n",
       "      <td>1.130</td>\n",
       "      <td>0.762</td>\n",
       "      <td>1.185</td>\n",
       "      <td>0.926</td>\n",
       "      <td>0.994</td>\n",
       "      <td>0.000</td>\n",
       "      <td>1</td>\n",
       "    </tr>\n",
       "    <tr>\n",
       "      <th>1</th>\n",
       "      <td>52299421_0_4473286348258170200</td>\n",
       "      <td>2</td>\n",
       "      <td>391</td>\n",
       "      <td>0.02</td>\n",
       "      <td>43.16</td>\n",
       "      <td>0.000</td>\n",
       "      <td>1.0</td>\n",
       "      <td>1.0</td>\n",
       "      <td>1.0</td>\n",
       "      <td>1.0</td>\n",
       "      <td>...</td>\n",
       "      <td>0.0</td>\n",
       "      <td>0.0</td>\n",
       "      <td>0.077</td>\n",
       "      <td>0.000</td>\n",
       "      <td>0.000</td>\n",
       "      <td>0.000</td>\n",
       "      <td>0.000</td>\n",
       "      <td>0.000</td>\n",
       "      <td>0.000</td>\n",
       "      <td>1</td>\n",
       "    </tr>\n",
       "    <tr>\n",
       "      <th>2</th>\n",
       "      <td>52299421_0_4473286348258170200</td>\n",
       "      <td>2</td>\n",
       "      <td>3</td>\n",
       "      <td>0.30</td>\n",
       "      <td>42.21</td>\n",
       "      <td>0.000</td>\n",
       "      <td>1.0</td>\n",
       "      <td>1.0</td>\n",
       "      <td>1.0</td>\n",
       "      <td>1.0</td>\n",
       "      <td>...</td>\n",
       "      <td>0.0</td>\n",
       "      <td>0.0</td>\n",
       "      <td>0.000</td>\n",
       "      <td>0.000</td>\n",
       "      <td>0.000</td>\n",
       "      <td>0.000</td>\n",
       "      <td>0.000</td>\n",
       "      <td>0.582</td>\n",
       "      <td>0.412</td>\n",
       "      <td>0</td>\n",
       "    </tr>\n",
       "    <tr>\n",
       "      <th>3</th>\n",
       "      <td>52299421_0_4473286348258170200</td>\n",
       "      <td>2</td>\n",
       "      <td>3</td>\n",
       "      <td>0.30</td>\n",
       "      <td>42.21</td>\n",
       "      <td>0.000</td>\n",
       "      <td>1.0</td>\n",
       "      <td>1.0</td>\n",
       "      <td>1.0</td>\n",
       "      <td>1.0</td>\n",
       "      <td>...</td>\n",
       "      <td>0.0</td>\n",
       "      <td>0.0</td>\n",
       "      <td>0.000</td>\n",
       "      <td>0.000</td>\n",
       "      <td>0.000</td>\n",
       "      <td>0.000</td>\n",
       "      <td>0.000</td>\n",
       "      <td>0.000</td>\n",
       "      <td>0.000</td>\n",
       "      <td>0</td>\n",
       "    </tr>\n",
       "    <tr>\n",
       "      <th>4</th>\n",
       "      <td>52299421_0_4473286348258170200</td>\n",
       "      <td>2</td>\n",
       "      <td>3</td>\n",
       "      <td>0.31</td>\n",
       "      <td>42.21</td>\n",
       "      <td>0.001</td>\n",
       "      <td>1.0</td>\n",
       "      <td>1.0</td>\n",
       "      <td>1.0</td>\n",
       "      <td>1.0</td>\n",
       "      <td>...</td>\n",
       "      <td>0.0</td>\n",
       "      <td>0.0</td>\n",
       "      <td>0.000</td>\n",
       "      <td>0.000</td>\n",
       "      <td>0.000</td>\n",
       "      <td>0.000</td>\n",
       "      <td>0.000</td>\n",
       "      <td>0.704</td>\n",
       "      <td>0.290</td>\n",
       "      <td>0</td>\n",
       "    </tr>\n",
       "    <tr>\n",
       "      <th>...</th>\n",
       "      <td>...</td>\n",
       "      <td>...</td>\n",
       "      <td>...</td>\n",
       "      <td>...</td>\n",
       "      <td>...</td>\n",
       "      <td>...</td>\n",
       "      <td>...</td>\n",
       "      <td>...</td>\n",
       "      <td>...</td>\n",
       "      <td>...</td>\n",
       "      <td>...</td>\n",
       "      <td>...</td>\n",
       "      <td>...</td>\n",
       "      <td>...</td>\n",
       "      <td>...</td>\n",
       "      <td>...</td>\n",
       "      <td>...</td>\n",
       "      <td>...</td>\n",
       "      <td>...</td>\n",
       "      <td>...</td>\n",
       "      <td>...</td>\n",
       "    </tr>\n",
       "    <tr>\n",
       "      <th>8010353</th>\n",
       "      <td>OHGI1JNY</td>\n",
       "      <td>1</td>\n",
       "      <td>75</td>\n",
       "      <td>0.02</td>\n",
       "      <td>31.91</td>\n",
       "      <td>0.003</td>\n",
       "      <td>1.0</td>\n",
       "      <td>1.0</td>\n",
       "      <td>1.0</td>\n",
       "      <td>1.0</td>\n",
       "      <td>...</td>\n",
       "      <td>0.6</td>\n",
       "      <td>0.0</td>\n",
       "      <td>0.059</td>\n",
       "      <td>1.246</td>\n",
       "      <td>1.000</td>\n",
       "      <td>1.000</td>\n",
       "      <td>1.000</td>\n",
       "      <td>1.000</td>\n",
       "      <td>0.000</td>\n",
       "      <td>1</td>\n",
       "    </tr>\n",
       "    <tr>\n",
       "      <th>8010354</th>\n",
       "      <td>OHGI1JNY</td>\n",
       "      <td>1</td>\n",
       "      <td>258</td>\n",
       "      <td>0.01</td>\n",
       "      <td>31.91</td>\n",
       "      <td>0.000</td>\n",
       "      <td>1.0</td>\n",
       "      <td>1.0</td>\n",
       "      <td>1.0</td>\n",
       "      <td>1.0</td>\n",
       "      <td>...</td>\n",
       "      <td>1.0</td>\n",
       "      <td>0.0</td>\n",
       "      <td>0.050</td>\n",
       "      <td>0.637</td>\n",
       "      <td>0.542</td>\n",
       "      <td>0.750</td>\n",
       "      <td>0.417</td>\n",
       "      <td>1.000</td>\n",
       "      <td>0.000</td>\n",
       "      <td>0</td>\n",
       "    </tr>\n",
       "    <tr>\n",
       "      <th>8010355</th>\n",
       "      <td>OHGI1JNY</td>\n",
       "      <td>1</td>\n",
       "      <td>15</td>\n",
       "      <td>0.05</td>\n",
       "      <td>31.75</td>\n",
       "      <td>0.001</td>\n",
       "      <td>1.0</td>\n",
       "      <td>1.0</td>\n",
       "      <td>1.0</td>\n",
       "      <td>1.0</td>\n",
       "      <td>...</td>\n",
       "      <td>1.0</td>\n",
       "      <td>0.0</td>\n",
       "      <td>0.000</td>\n",
       "      <td>0.095</td>\n",
       "      <td>0.095</td>\n",
       "      <td>0.167</td>\n",
       "      <td>0.167</td>\n",
       "      <td>0.997</td>\n",
       "      <td>0.003</td>\n",
       "      <td>0</td>\n",
       "    </tr>\n",
       "    <tr>\n",
       "      <th>8010356</th>\n",
       "      <td>OHGI1JNY</td>\n",
       "      <td>1</td>\n",
       "      <td>258</td>\n",
       "      <td>0.01</td>\n",
       "      <td>31.91</td>\n",
       "      <td>0.000</td>\n",
       "      <td>1.0</td>\n",
       "      <td>1.0</td>\n",
       "      <td>1.0</td>\n",
       "      <td>1.0</td>\n",
       "      <td>...</td>\n",
       "      <td>1.0</td>\n",
       "      <td>0.0</td>\n",
       "      <td>0.050</td>\n",
       "      <td>0.867</td>\n",
       "      <td>0.542</td>\n",
       "      <td>2.000</td>\n",
       "      <td>1.000</td>\n",
       "      <td>1.000</td>\n",
       "      <td>0.000</td>\n",
       "      <td>1</td>\n",
       "    </tr>\n",
       "    <tr>\n",
       "      <th>8010357</th>\n",
       "      <td>OHGI1JNY</td>\n",
       "      <td>1</td>\n",
       "      <td>15</td>\n",
       "      <td>0.05</td>\n",
       "      <td>31.75</td>\n",
       "      <td>0.001</td>\n",
       "      <td>1.0</td>\n",
       "      <td>1.0</td>\n",
       "      <td>1.0</td>\n",
       "      <td>1.0</td>\n",
       "      <td>...</td>\n",
       "      <td>1.0</td>\n",
       "      <td>0.0</td>\n",
       "      <td>0.000</td>\n",
       "      <td>0.325</td>\n",
       "      <td>0.325</td>\n",
       "      <td>0.061</td>\n",
       "      <td>0.061</td>\n",
       "      <td>0.997</td>\n",
       "      <td>0.003</td>\n",
       "      <td>0</td>\n",
       "    </tr>\n",
       "  </tbody>\n",
       "</table>\n",
       "<p>8010358 rows × 22 columns</p>\n",
       "</div>"
      ],
      "text/plain": [
       "                              tableName  ntoken  popularity  pos_score  \\\n",
       "0        52299421_0_4473286348258170200       2         391       0.02   \n",
       "1        52299421_0_4473286348258170200       2         391       0.02   \n",
       "2        52299421_0_4473286348258170200       2           3       0.30   \n",
       "3        52299421_0_4473286348258170200       2           3       0.30   \n",
       "4        52299421_0_4473286348258170200       2           3       0.31   \n",
       "...                                 ...     ...         ...        ...   \n",
       "8010353                        OHGI1JNY       1          75       0.02   \n",
       "8010354                        OHGI1JNY       1         258       0.01   \n",
       "8010355                        OHGI1JNY       1          15       0.05   \n",
       "8010356                        OHGI1JNY       1         258       0.01   \n",
       "8010357                        OHGI1JNY       1          15       0.05   \n",
       "\n",
       "         es_score  es_diff_score   ed  jaccard  jaccardNgram  \\\n",
       "0           43.16          0.000  1.0      1.0           1.0   \n",
       "1           43.16          0.000  1.0      1.0           1.0   \n",
       "2           42.21          0.000  1.0      1.0           1.0   \n",
       "3           42.21          0.000  1.0      1.0           1.0   \n",
       "4           42.21          0.001  1.0      1.0           1.0   \n",
       "...           ...            ...  ...      ...           ...   \n",
       "8010353     31.91          0.003  1.0      1.0           1.0   \n",
       "8010354     31.91          0.000  1.0      1.0           1.0   \n",
       "8010355     31.75          0.001  1.0      1.0           1.0   \n",
       "8010356     31.91          0.000  1.0      1.0           1.0   \n",
       "8010357     31.75          0.001  1.0      1.0           1.0   \n",
       "\n",
       "         cosine_similarity  ...  p_obj_ne  desc  descNgram    cpa  cpaMax  \\\n",
       "0                      1.0  ...       0.0   0.0      0.077  1.130   0.762   \n",
       "1                      1.0  ...       0.0   0.0      0.077  0.000   0.000   \n",
       "2                      1.0  ...       0.0   0.0      0.000  0.000   0.000   \n",
       "3                      1.0  ...       0.0   0.0      0.000  0.000   0.000   \n",
       "4                      1.0  ...       0.0   0.0      0.000  0.000   0.000   \n",
       "...                    ...  ...       ...   ...        ...    ...     ...   \n",
       "8010353                1.0  ...       0.6   0.0      0.059  1.246   1.000   \n",
       "8010354                1.0  ...       1.0   0.0      0.050  0.637   0.542   \n",
       "8010355                1.0  ...       1.0   0.0      0.000  0.095   0.095   \n",
       "8010356                1.0  ...       1.0   0.0      0.050  0.867   0.542   \n",
       "8010357                1.0  ...       1.0   0.0      0.000  0.325   0.325   \n",
       "\n",
       "           cta  ctaMax  logistic1_score  logistic1_score_diff  target  \n",
       "0        1.185   0.926            0.994                 0.000       1  \n",
       "1        0.000   0.000            0.000                 0.000       1  \n",
       "2        0.000   0.000            0.582                 0.412       0  \n",
       "3        0.000   0.000            0.000                 0.000       0  \n",
       "4        0.000   0.000            0.704                 0.290       0  \n",
       "...        ...     ...              ...                   ...     ...  \n",
       "8010353  1.000   1.000            1.000                 0.000       1  \n",
       "8010354  0.750   0.417            1.000                 0.000       0  \n",
       "8010355  0.167   0.167            0.997                 0.003       0  \n",
       "8010356  2.000   1.000            1.000                 0.000       1  \n",
       "8010357  0.061   0.061            0.997                 0.003       0  \n",
       "\n",
       "[8010358 rows x 22 columns]"
      ]
     },
     "execution_count": 60,
     "metadata": {},
     "output_type": "execute_result"
    }
   ],
   "source": [
    "new_df"
   ]
  },
  {
   "cell_type": "code",
   "execution_count": 61,
   "id": "3873a0e7-49fe-4b1a-8560-2de84901750f",
   "metadata": {},
   "outputs": [],
   "source": [
    "new_df.drop_duplicates(subset=list(set(new_df.columns)-set([\"tableName\"])), inplace=True)"
   ]
  },
  {
   "cell_type": "code",
   "execution_count": 62,
   "id": "8655fab9-3dff-4fb2-a73c-13cce550526a",
   "metadata": {},
   "outputs": [
    {
     "name": "stdout",
     "output_type": "stream",
     "text": [
      "<class 'pandas.core.frame.DataFrame'>\n",
      "Int64Index: 7760046 entries, 0 to 8010357\n",
      "Data columns (total 22 columns):\n",
      " #   Column                Dtype  \n",
      "---  ------                -----  \n",
      " 0   tableName             object \n",
      " 1   ntoken                int64  \n",
      " 2   popularity            int64  \n",
      " 3   pos_score             float64\n",
      " 4   es_score              float64\n",
      " 5   es_diff_score         float64\n",
      " 6   ed                    float64\n",
      " 7   jaccard               float64\n",
      " 8   jaccardNgram          float64\n",
      " 9   cosine_similarity     float64\n",
      " 10  p_subj_ne             float64\n",
      " 11  p_subj_lit            float64\n",
      " 12  p_obj_ne              float64\n",
      " 13  desc                  float64\n",
      " 14  descNgram             float64\n",
      " 15  cpa                   float64\n",
      " 16  cpaMax                float64\n",
      " 17  cta                   float64\n",
      " 18  ctaMax                float64\n",
      " 19  logistic1_score       float64\n",
      " 20  logistic1_score_diff  float64\n",
      " 21  target                int64  \n",
      "dtypes: float64(18), int64(3), object(1)\n",
      "memory usage: 1.3+ GB\n"
     ]
    }
   ],
   "source": [
    "new_df.info()"
   ]
  },
  {
   "cell_type": "code",
   "execution_count": null,
   "id": "33f78940-bc04-48ae-b384-7328a52a1a76",
   "metadata": {},
   "outputs": [],
   "source": [
    "a = {\"a\": 0}\n",
    "b = [a.copy()]\n",
    "a[\"a\"] = 2\n",
    "a, b"
   ]
  },
  {
   "cell_type": "code",
   "execution_count": null,
   "id": "00bfb21a-d638-4630-a2f0-8d6aaba8cc7d",
   "metadata": {},
   "outputs": [],
   "source": [
    "for idx, row in tqdm(new_df.iterrows(), total=len(new_df)):\n",
    "    pass"
   ]
  },
  {
   "cell_type": "code",
   "execution_count": null,
   "id": "777cfb70-25f9-44c1-acf1-71873d16e8b3",
   "metadata": {},
   "outputs": [],
   "source": [
    "df = pd.read_csv(\"./data/ml_with_type/final_ml.csv\")"
   ]
  },
  {
   "cell_type": "code",
   "execution_count": null,
   "id": "3017a4dd-addc-4646-8666-8a3c40effcda",
   "metadata": {},
   "outputs": [],
   "source": [
    "df.columns"
   ]
  },
  {
   "cell_type": "code",
   "execution_count": null,
   "id": "1c941a9e-6777-415f-bf38-271c6f54e41b",
   "metadata": {},
   "outputs": [],
   "source": [
    "df.drop(columns=[\"cea\"], inplace=True)"
   ]
  },
  {
   "cell_type": "code",
   "execution_count": null,
   "id": "249a9efa-0958-4c57-a535-2821dd0a5a67",
   "metadata": {},
   "outputs": [],
   "source": [
    "df"
   ]
  },
  {
   "cell_type": "code",
   "execution_count": null,
   "id": "308afc5b-e834-47da-88f5-9aa02b6343e9",
   "metadata": {},
   "outputs": [],
   "source": [
    "new_df = df.drop(columns=list(set(df.columns)-set([\"tableName\", \"cea\", \"cta\", \"ctaMax\", \"cpa\", \"cpaMax\", \"diff\", \"target\"])))"
   ]
  },
  {
   "cell_type": "code",
   "execution_count": null,
   "id": "1994869f-0741-41e5-ba92-4797706c2c06",
   "metadata": {},
   "outputs": [],
   "source": [
    "new"
   ]
  },
  {
   "cell_type": "code",
   "execution_count": null,
   "id": "44a76a1a-422b-4686-a0d5-e4bba96cd16c",
   "metadata": {},
   "outputs": [],
   "source": [
    "new_df = df.sort_values([\"target\"]).drop_duplicates(subset=['ed', 'jaccard', \n",
    "                        'jaccardNgram', 'p_subj_ne', 'p_subj_lit', 'p_obj_ne', 'desc', 'descNgram', 'target'], keep='last')"
   ]
  },
  {
   "cell_type": "code",
   "execution_count": null,
   "id": "ac86a182-2ad2-43f2-9e42-37a87195ac0a",
   "metadata": {},
   "outputs": [],
   "source": [
    "new_df"
   ]
  },
  {
   "cell_type": "code",
   "execution_count": null,
   "id": "0627be24-3129-4d47-bfcc-7e578ec18602",
   "metadata": {},
   "outputs": [],
   "source": [
    "final_df = df.drop_duplicates(subset=list(set(df.columns)-set([\"tableName\"])))"
   ]
  },
  {
   "cell_type": "code",
   "execution_count": null,
   "id": "5d468384-dbc0-4bd4-9208-45173dd3fec1",
   "metadata": {},
   "outputs": [],
   "source": [
    "final_df[final_df[\"target\"]==0].describe()"
   ]
  },
  {
   "cell_type": "code",
   "execution_count": null,
   "id": "74e527f4-3560-4317-a9fa-6bbbbbca3437",
   "metadata": {},
   "outputs": [],
   "source": [
    "new_final_df = final_df.drop_duplicates(subset=['ed', 'jaccard', \n",
    "                        'jaccardNgram', 'p_subj_ne', 'p_subj_lit', 'p_obj_ne', 'desc', 'descNgram'], keep='last')"
   ]
  },
  {
   "cell_type": "code",
   "execution_count": null,
   "id": "2d5b48ce-366b-4196-b1a9-186b89e942ba",
   "metadata": {},
   "outputs": [],
   "source": [
    "final_df.no"
   ]
  },
  {
   "cell_type": "code",
   "execution_count": null,
   "id": "d6a68c96-c8e4-4ca7-b2dc-fb97ccd67cb7",
   "metadata": {},
   "outputs": [],
   "source": [
    "temp = final_df[~final_df.isin(new_final_df)].dropna()"
   ]
  },
  {
   "cell_type": "code",
   "execution_count": null,
   "id": "1cf97dcd-9455-4a56-adc0-fea51bff6878",
   "metadata": {},
   "outputs": [],
   "source": [
    "result = final_df.groupby(list(set(temp.columns) - set([\"tableName\", \"target\"])))"
   ]
  },
  {
   "cell_type": "code",
   "execution_count": null,
   "id": "3ae83bb2-3bf7-42f8-8a4f-81da0fe809c7",
   "metadata": {},
   "outputs": [],
   "source": [
    "result.count()"
   ]
  },
  {
   "cell_type": "code",
   "execution_count": null,
   "id": "dc8f910a-276b-47d1-a326-9ff9b2adfaf9",
   "metadata": {},
   "outputs": [],
   "source": [
    "out = final_df.duplicated(subset=list(set(temp.columns) - set([\"tableName\", \"key\", \"target\"])), keep=False)"
   ]
  },
  {
   "cell_type": "code",
   "execution_count": null,
   "id": "c2309010-3500-4143-b2c9-c425f436dfc5",
   "metadata": {},
   "outputs": [],
   "source": [
    "sum(out)"
   ]
  },
  {
   "cell_type": "code",
   "execution_count": null,
   "id": "3fef9c57-9f39-4a8b-a788-d5de034b6bb6",
   "metadata": {},
   "outputs": [],
   "source": [
    "final_df[out].sort_values(by=list(set(temp.columns) - set([\"tableName\",\"key\", \"target\"]))).to_csv(\"out.csv\")"
   ]
  },
  {
   "cell_type": "code",
   "execution_count": null,
   "id": "fc5beef7-2496-4599-8b5f-c01e2bf09721",
   "metadata": {},
   "outputs": [],
   "source": [
    "for state, frame in result:\n",
    "    if len(frame) > 1:\n",
    "        print(\"Alert!\")"
   ]
  },
  {
   "cell_type": "code",
   "execution_count": null,
   "id": "bde453a1-9adc-4829-9d9b-d67bd0696dcf",
   "metadata": {},
   "outputs": [],
   "source": [
    "len(final_df)"
   ]
  },
  {
   "cell_type": "code",
   "execution_count": null,
   "id": "c7d5ecac-d861-4f89-a260-5c672f15f130",
   "metadata": {},
   "outputs": [],
   "source": [
    "temp.sort_values(by=list(set(temp.columns) - set([\"tableName\", \"target\"])))"
   ]
  },
  {
   "cell_type": "code",
   "execution_count": null,
   "id": "48516750-f7cf-4b51-b5c1-e12e975c0b29",
   "metadata": {},
   "outputs": [],
   "source": [
    "len(new_final_df) / len(final_df)"
   ]
  },
  {
   "cell_type": "code",
   "execution_count": 63,
   "id": "73066d5a-b494-4ac8-a49d-f41c6f2b3b13",
   "metadata": {},
   "outputs": [
    {
     "data": {
      "text/plain": [
       "array(['52299421_0_4473286348258170200', '53989675_0_8697482470743954630',\n",
       "       '29414811_6_8221428333921653560', ..., 'ND6V1CBE', 'WH6JINCM',\n",
       "       'OHGI1JNY'], dtype=object)"
      ]
     },
     "execution_count": 63,
     "metadata": {},
     "output_type": "execute_result"
    }
   ],
   "source": [
    "df = new_df\n",
    "tables_name = df[\"tableName\"].unique()\n",
    "tables_name"
   ]
  },
  {
   "cell_type": "code",
   "execution_count": 64,
   "id": "834271c7-2bc8-409a-a3ac-b6a92274d902",
   "metadata": {},
   "outputs": [
    {
     "data": {
      "text/plain": [
       "array(['EG0QYLYC', '1WP08BB7', 'J2JEOK6T', ..., '5BQYA6K8', 'J2CB4B9C',\n",
       "       '25KVEKE4'], dtype=object)"
      ]
     },
     "execution_count": 64,
     "metadata": {},
     "output_type": "execute_result"
    }
   ],
   "source": [
    "import numpy as np\n",
    "np.random.shuffle(tables_name)\n",
    "tables_name"
   ]
  },
  {
   "cell_type": "code",
   "execution_count": 65,
   "id": "0b352752-a232-42df-978f-180ec97a2d59",
   "metadata": {},
   "outputs": [],
   "source": [
    "folds = np.array_split(tables_name, 5)"
   ]
  },
  {
   "cell_type": "code",
   "execution_count": 66,
   "id": "8f427bd0-24c1-41a2-93b9-c10b80589816",
   "metadata": {},
   "outputs": [],
   "source": [
    "final_df = new_df\n",
    "for i, values in enumerate(folds):\n",
    "    final_df.loc[final_df[\"tableName\"].isin(values)].to_csv(f\"./data/ml_with_type/2_folds/logistic1/fold{i+1}.csv\", index=False)"
   ]
  },
  {
   "cell_type": "code",
   "execution_count": null,
   "id": "06191e58-179e-4848-9c06-4601e2dd558c",
   "metadata": {},
   "outputs": [],
   "source": [
    "folds"
   ]
  },
  {
   "cell_type": "code",
   "execution_count": null,
   "id": "cc8f9bff-b620-4cdf-b189-6c69a0c34a7a",
   "metadata": {},
   "outputs": [],
   "source": [
    "len(final_df[final_df[\"target\"]==1])/len(final_df)"
   ]
  }
 ],
 "metadata": {
  "kernelspec": {
   "display_name": "Python 3 (ipykernel)",
   "language": "python",
   "name": "python3"
  },
  "language_info": {
   "codemirror_mode": {
    "name": "ipython",
    "version": 3
   },
   "file_extension": ".py",
   "mimetype": "text/x-python",
   "name": "python",
   "nbconvert_exporter": "python",
   "pygments_lexer": "ipython3",
   "version": "3.10.9"
  }
 },
 "nbformat": 4,
 "nbformat_minor": 5
}
