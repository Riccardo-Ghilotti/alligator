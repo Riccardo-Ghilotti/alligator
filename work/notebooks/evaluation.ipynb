{
 "cells": [
  {
   "cell_type": "code",
   "execution_count": 1,
   "id": "754df0e0-4523-41ed-9892-5cc26ea05cc4",
   "metadata": {
    "tags": []
   },
   "outputs": [],
   "source": [
    "import os\n",
    "import json\n",
    "import requests\n",
    "import pandas as pd\n",
    "import utils.utils as utils\n",
    "from tqdm import tqdm\n",
    "from pymongo import MongoClient\n",
    "\n",
    "\n",
    "dataset = {\n",
    "    \"Round1_T2D\": {\n",
    "        \"tables\": \"./data/Dataset/Round1_T2D/tables\",\n",
    "        \"cea\":\"./data/Dataset/Round1_T2D/gt/CEA_Round1_gt_WD.csv\",\n",
    "        \"cpa\":\"./data/Dataset/Round1_T2D/gt/CPA_Round1_gt.csv\",\n",
    "        \"cta\": \"./data/Dataset/Round1_T2D/gt/CTA_Round1_gt.csv\"\n",
    "    },\n",
    "    \"Round3\": {\n",
    "        \"tables\": \"./data/Dataset/Round3_2019/tables/\",\n",
    "        \"cea\":\"./data/Dataset/Round3_2019/gt/CEA_Round3_gt_WD.csv\",\n",
    "        \"cpa\":\"./data/Dataset/Round3_2019/gt/CPA_Round3_gt.csv\",\n",
    "        \"cta\": \"./data/Dataset/Round3_2019/gt/CTA_Round3_gt.csv\"\n",
    "    },\n",
    "    \"Round4\": {\n",
    "        \"tables\": \"./data/Dataset/Round4_2020/tables/\",\n",
    "        \"cea\":\"./data/Dataset/Round4_2020/gt/cea.csv\",\n",
    "        \"cpa\":\"./data/Dataset/Round4_2020/gt/cpa.csv\",\n",
    "        \"cta\": \"./data/Dataset/Round4_2020/gt/cta.csv\"\n",
    "    },\n",
    "    \"2T-2020\": {\n",
    "        \"tables\":\"./data/Dataset/2T_Round4/tables/\", \n",
    "        \"cea\":\"./data/Dataset/2T_Round4/gt/cea.csv\",\n",
    "        \"cpa\": None,\n",
    "        \"cta\": \"./data/Dataset/2T_Round4/gt/cta.csv\"\n",
    "    },\n",
    "    \"HardTableR2-2021\": {\n",
    "        \"tables\":\"./data/Dataset/HardTablesR2/tables/\", \n",
    "        \"cea\":\"./data/Dataset/HardTablesR2/gt/cea.csv\",\n",
    "        \"cpa\":\"./data/Dataset/HardTablesR2/gt/cpa.csv\",\n",
    "        \"cta\": \"./data/Dataset/HardTablesR2/gt/cta.csv\"\n",
    "    },\n",
    "    \"HardTableR3-2021\": {\n",
    "        \"tables\":\"./data/Dataset/HardTablesR3/tables/\", \n",
    "        \"cea\":\"./data/Dataset/HardTablesR3/gt/cea.csv\",\n",
    "        \"cpa\":\"./data/Dataset/HardTablesR3/gt/cpa.csv\",\n",
    "        \"cta\": \"./data/Dataset/HardTablesR3/gt/cta.csv\"\n",
    "    }\n",
    "}\n",
    "temp = {\"mammotab\": {\n",
    "        \"tables\":\"./data/Dataset/mammotab-sample/tables/\", \n",
    "        \"cea\":\"./data/Dataset/mammotab-sample/gt/cea.csv\",\n",
    "        \"cpa\":None,\n",
    "        \"cta\": \"./data/Dataset/mammotab-sample/gt/cta.csv\"\n",
    "}\n",
    "}\n",
    "\n",
    "\n",
    "id_dataset = \"Round3\"\n",
    "tables_path, cea_target_path, cpa_target_path, cta_target_path = list(dataset[id_dataset].values())\n",
    "#cea_gt = utils.get_cea_ann(cea_target_path)\n",
    "# _mtest5 R2 best"
   ]
  },
  {
   "cell_type": "code",
   "execution_count": 10,
   "id": "931c8e18-aba0-4c2f-9ebf-b1075cfd2af2",
   "metadata": {
    "tags": []
   },
   "outputs": [
    {
     "name": "stderr",
     "output_type": "stream",
     "text": [
      "100%|██████████| 9736/9736 [00:00<00:00, 57767.27it/s]\n"
     ]
    }
   ],
   "source": [
    "cta_weights, cta_buffer   = utils.get_cta_types_table_to_column(f\"{id_dataset}_100_m7\")"
   ]
  },
  {
   "cell_type": "code",
   "execution_count": 2,
   "id": "ca232e3c-862b-4096-921f-947f6cffdf08",
   "metadata": {
    "tags": []
   },
   "outputs": [
    {
     "name": "stderr",
     "output_type": "stream",
     "text": [
      "100%|██████████| 9736/9736 [00:00<00:00, 144758.84it/s]\n"
     ]
    }
   ],
   "source": [
    "cpa_weights, cpa_buffer = utils.get_cpa_types_table_to_column(f\"{id_dataset}_100_m7\")"
   ]
  },
  {
   "cell_type": "code",
   "execution_count": null,
   "id": "81736b27-0f9c-45a6-86ef-581c520ca16a",
   "metadata": {
    "tags": []
   },
   "outputs": [],
   "source": [
    "cpa_weights[\"v10_21\"]"
   ]
  },
  {
   "cell_type": "code",
   "execution_count": 4,
   "id": "d6edf3d4-421e-4faa-82f0-281314e25d19",
   "metadata": {
    "tags": []
   },
   "outputs": [],
   "source": [
    "final_weights = {}\n",
    "for id_column in cpa_weights[\"v10_21\"]:\n",
    "    final_weights[id_column] = {}\n",
    "    result = sorted(cpa_weights[\"v10_21\"][id_column].items(), key=lambda x: x[1], reverse=True)\n",
    "    for id_type, score in result[0:5]:\n",
    "        final_weights[id_column][id_type] = score"
   ]
  },
  {
   "cell_type": "code",
   "execution_count": 20,
   "id": "a9fe1399-d6e4-477d-b054-9eb131fe55c8",
   "metadata": {
    "tags": []
   },
   "outputs": [],
   "source": [
    "final_weights = {}\n",
    "for id_column in cta_weights[\"v10_21\"]:\n",
    "    final_weights[id_column] = {}\n",
    "    result = sorted(cta_weights[\"v10_21\"][id_column].items(), key=lambda x: x[1], reverse=True)\n",
    "    for id_type, score in result[0:5]:\n",
    "        final_weights[id_column][id_type] = score"
   ]
  },
  {
   "cell_type": "code",
   "execution_count": 5,
   "id": "5747bab2-9b27-4b49-987d-d393aefd9a6c",
   "metadata": {
    "tags": []
   },
   "outputs": [
    {
     "data": {
      "text/plain": [
       "{'0': {'P159': 0.79, 'P1885': 0.12, 'P131': 0.07, 'P2389': 0.07, 'P301': 0.05},\n",
       " '1': {'P131': 0.59, 'P159': 0.39, 'P931': 0.29, 'P1889': 0.25, 'P1376': 0.24},\n",
       " '6': {},\n",
       " '3': {'P131': 0.59, 'P159': 0.39, 'P931': 0.29, 'P1889': 0.25, 'P1376': 0.24},\n",
       " '4': {'P131': 0.59, 'P159': 0.39, 'P931': 0.29, 'P1889': 0.25, 'P1376': 0.24},\n",
       " '5': {},\n",
       " '2': {'P131': 0.59, 'P159': 0.39, 'P931': 0.29, 'P1889': 0.25, 'P1376': 0.24}}"
      ]
     },
     "execution_count": 5,
     "metadata": {},
     "output_type": "execute_result"
    }
   ],
   "source": [
    "final_weights"
   ]
  },
  {
   "cell_type": "code",
   "execution_count": null,
   "id": "62c0d2df-781d-45a9-a9e9-ef9b010127dc",
   "metadata": {
    "tags": []
   },
   "outputs": [],
   "source": [
    "sorted(cta_weights[\"v10_21\"][\"1\"].items(), key=lambda x: x[1], reverse=True)"
   ]
  },
  {
   "cell_type": "code",
   "execution_count": 2,
   "id": "d21daf42-7853-4deb-9692-707e28d94fe5",
   "metadata": {
    "tags": []
   },
   "outputs": [
    {
     "name": "stderr",
     "output_type": "stream",
     "text": [
      "100%|██████████| 9089/9089 [00:03<00:00, 2828.01it/s]\n",
      "100%|██████████| 8078/8078 [00:00<00:00, 227442.05it/s]\n"
     ]
    },
    {
     "name": "stdout",
     "output_type": "stream",
     "text": [
      "Round1_T2D {'P': 0.8074780240188189, 'R': 0.8073780638771973, 'F1': 0.8074280408542246}\n"
     ]
    },
    {
     "name": "stderr",
     "output_type": "stream",
     "text": [
      "100%|██████████| 152753/152753 [02:02<00:00, 1249.97it/s]\n",
      "100%|██████████| 390456/390456 [00:02<00:00, 142047.19it/s]\n"
     ]
    },
    {
     "name": "stdout",
     "output_type": "stream",
     "text": [
      "Round3 {'P': 0.7332708422972115, 'R': 0.7332708422972115, 'F1': 0.7332708422972115}\n"
     ]
    },
    {
     "name": "stderr",
     "output_type": "stream",
     "text": [
      "100%|██████████| 475897/475897 [01:29<00:00, 5306.80it/s]\n",
      "100%|██████████| 994920/994920 [00:06<00:00, 142242.32it/s]\n"
     ]
    },
    {
     "name": "stdout",
     "output_type": "stream",
     "text": [
      "Round4 {'P': 0.89410497649682, 'R': 0.8903278655570297, 'F1': 0.8922124235195054}\n"
     ]
    },
    {
     "name": "stderr",
     "output_type": "stream",
     "text": [
      "100%|██████████| 194438/194438 [01:26<00:00, 2256.74it/s]\n",
      "100%|██████████| 667243/667243 [00:05<00:00, 125446.51it/s]\n"
     ]
    },
    {
     "name": "stdout",
     "output_type": "stream",
     "text": [
      "2T-2020 {'P': 0.8500204767098053, 'R': 0.8492153533270488, 'F1': 0.8496177242786692}\n"
     ]
    },
    {
     "name": "stderr",
     "output_type": "stream",
     "text": [
      "100%|██████████| 29280/29280 [00:04<00:00, 6585.47it/s]\n",
      "100%|██████████| 47439/47439 [00:00<00:00, 135637.05it/s]\n"
     ]
    },
    {
     "name": "stdout",
     "output_type": "stream",
     "text": [
      "HardTableR2-2021 {'P': 0.89720696456217, 'R': 0.8917978878138241, 'F1': 0.8944942489851151}\n"
     ]
    },
    {
     "name": "stderr",
     "output_type": "stream",
     "text": [
      "100%|██████████| 58949/58949 [00:09<00:00, 6415.57it/s]\n",
      "100%|██████████| 58948/58948 [00:00<00:00, 162978.79it/s]"
     ]
    },
    {
     "name": "stdout",
     "output_type": "stream",
     "text": [
      "HardTableR3-2021 {'P': 0.5057218759579033, 'R': 0.5037829951821945, 'F1': 0.5047505736381406}\n"
     ]
    },
    {
     "name": "stderr",
     "output_type": "stream",
     "text": [
      "\n"
     ]
    }
   ],
   "source": [
    "for id_dataset in dataset:\n",
    "    tables_path, cea_target_path, cpa_target_path, cta_target_path = list(dataset[id_dataset].values())\n",
    "    metrics, ann, err = utils.cea_eval(f\"{id_dataset}_TEST\", cea_target_path, resolve_disambiguation=True)\n",
    "    print(id_dataset, metrics)"
   ]
  },
  {
   "cell_type": "code",
   "execution_count": 30,
   "id": "416dfa52-7760-4b40-8d96-b9adc856c453",
   "metadata": {
    "tags": []
   },
   "outputs": [
    {
     "name": "stderr",
     "output_type": "stream",
     "text": [
      "100%|██████████| 9089/9089 [00:02<00:00, 3564.30it/s]\n",
      "100%|██████████| 8078/8078 [00:00<00:00, 222909.58it/s]\n"
     ]
    },
    {
     "name": "stdout",
     "output_type": "stream",
     "text": [
      "Round1_T2D {'P': 0.8373158350872849, 'R': 0.8372121812329785, 'F1': 0.8372640049520274}\n"
     ]
    },
    {
     "name": "stderr",
     "output_type": "stream",
     "text": [
      "100%|██████████| 152753/152753 [00:31<00:00, 4868.11it/s]\n",
      "100%|██████████| 390456/390456 [00:02<00:00, 146542.10it/s]\n"
     ]
    },
    {
     "name": "stdout",
     "output_type": "stream",
     "text": [
      "Round3 {'P': 0.7432873358329748, 'R': 0.7432873358329748, 'F1': 0.7432873358329748}\n"
     ]
    },
    {
     "name": "stderr",
     "output_type": "stream",
     "text": [
      "100%|██████████| 475897/475897 [01:21<00:00, 5865.45it/s]\n",
      "100%|██████████| 994920/994920 [00:07<00:00, 132080.82it/s]\n"
     ]
    },
    {
     "name": "stdout",
     "output_type": "stream",
     "text": [
      "Round4 {'P': 0.9086469698208469, 'R': 0.9048084268081856, 'F1': 0.906723635790429}\n"
     ]
    },
    {
     "name": "stderr",
     "output_type": "stream",
     "text": [
      "100%|██████████| 194438/194438 [01:03<00:00, 3066.30it/s]\n",
      "100%|██████████| 667243/667243 [00:05<00:00, 126707.56it/s]\n"
     ]
    },
    {
     "name": "stdout",
     "output_type": "stream",
     "text": [
      "2T-2020 {'P': 0.8633025857659115, 'R': 0.8624848818196669, 'F1': 0.8628935400726017}\n"
     ]
    },
    {
     "name": "stderr",
     "output_type": "stream",
     "text": [
      "100%|██████████| 29280/29280 [00:04<00:00, 7087.77it/s]\n",
      "100%|██████████| 47439/47439 [00:00<00:00, 127307.98it/s]\n"
     ]
    },
    {
     "name": "stdout",
     "output_type": "stream",
     "text": [
      "HardTableR2-2021 {'P': 0.9168663711746866, 'R': 0.9113387718965408, 'F1': 0.9140942151556156}\n"
     ]
    },
    {
     "name": "stderr",
     "output_type": "stream",
     "text": [
      "100%|██████████| 58949/58949 [00:05<00:00, 10442.48it/s]\n",
      "100%|██████████| 58948/58948 [00:00<00:00, 162156.17it/s]"
     ]
    },
    {
     "name": "stdout",
     "output_type": "stream",
     "text": [
      "HardTableR3-2021 {'P': 0.5989918599502742, 'R': 0.5966953925493655, 'F1': 0.5978414209229199}\n"
     ]
    },
    {
     "name": "stderr",
     "output_type": "stream",
     "text": [
      "\n"
     ]
    }
   ],
   "source": [
    "for id_dataset in dataset:\n",
    "    tables_path, cea_target_path, cpa_target_path, cta_target_path = list(dataset[id_dataset].values())\n",
    "    metrics, ann, err = utils.cea_eval(f\"{id_dataset}_TEST\", cea_target_path, resolve_disambiguation=True)\n",
    "    print(id_dataset, metrics)"
   ]
  },
  {
   "cell_type": "code",
   "execution_count": 46,
   "id": "d57c4809-5a05-4699-811a-24f8ca98cd66",
   "metadata": {
    "tags": []
   },
   "outputs": [],
   "source": [
    "NIL_entities = set([\n",
    "json.loads(line)[0]\n",
    "for line in open(\"data/output_NIL2.jsonl\")\n",
    "])"
   ]
  },
  {
   "cell_type": "code",
   "execution_count": 41,
   "id": "d1786256-44b9-4883-89c1-8fa414566cf9",
   "metadata": {
    "tags": []
   },
   "outputs": [
    {
     "data": {
      "text/plain": [
       "(2063185, 2063185)"
      ]
     },
     "execution_count": 41,
     "metadata": {},
     "output_type": "execute_result"
    }
   ],
   "source": [
    "len(NIL_entities), len(set(NIL_entities))"
   ]
  },
  {
   "cell_type": "code",
   "execution_count": 47,
   "id": "543cc553-4e9e-4c12-8e35-e2174cbf016f",
   "metadata": {
    "tags": []
   },
   "outputs": [
    {
     "name": "stderr",
     "output_type": "stream",
     "text": [
      "100%|██████████| 9089/9089 [00:02<00:00, 4453.95it/s]\n",
      "100%|██████████| 152753/152753 [00:28<00:00, 5386.57it/s]\n",
      "100%|██████████| 475877/475877 [01:15<00:00, 6306.48it/s]\n",
      "100%|██████████| 194438/194438 [00:48<00:00, 4008.22it/s]\n",
      "100%|██████████| 29280/29280 [00:03<00:00, 7360.08it/s]\n",
      "100%|██████████| 58949/58949 [00:06<00:00, 9481.90it/s] \n"
     ]
    }
   ],
   "source": [
    "buffer = {}\n",
    "for id_dataset in dataset:\n",
    "    buffer[f\"{id_dataset}_100_m7\"] = []\n",
    "    utils.get_my_cea_annotation_NIL(f\"{id_dataset}_100_m7\", NIL_entities, buffer)"
   ]
  },
  {
   "cell_type": "code",
   "execution_count": 48,
   "id": "35d416b5-cdf0-4433-b5b3-4bc02d8632bc",
   "metadata": {
    "tags": []
   },
   "outputs": [
    {
     "data": {
      "text/plain": [
       "15961"
      ]
     },
     "execution_count": 48,
     "metadata": {},
     "output_type": "execute_result"
    }
   ],
   "source": [
    "len(buffer[f\"2T-2020_100_m7\"])"
   ]
  },
  {
   "cell_type": "code",
   "execution_count": 2,
   "id": "6cf0db4e-6478-4929-8534-b2ad7c1d3804",
   "metadata": {
    "tags": []
   },
   "outputs": [
    {
     "name": "stderr",
     "output_type": "stream",
     "text": [
      "100%|██████████| 9089/9089 [00:14<00:00, 617.96it/s] \n",
      "100%|██████████| 8078/8078 [00:00<00:00, 38762.93it/s]\n"
     ]
    }
   ],
   "source": [
    "output = []\n",
    "file = open(\"data/output_NIL.jsonl\", \"w\")\n",
    "for id_dataset in dataset:\n",
    "    tables_path, cea_target_path, cpa_target_path, cta_target_path = list(dataset[id_dataset].values())\n",
    "    metric, missing = utils.cea_eval_missing(f\"{id_dataset}_100_m4\", cea_target_path)\n",
    "    for line in missing:\n",
    "        file.write(f\"{json.dumps(line)}\\n\")\n",
    "    break    "
   ]
  },
  {
   "cell_type": "code",
   "execution_count": null,
   "id": "0a7f724d-64ed-40b8-941e-6c21f72110eb",
   "metadata": {
    "tags": []
   },
   "outputs": [],
   "source": [
    "buffer[f\"2T-2020_100_m7\"]"
   ]
  },
  {
   "cell_type": "code",
   "execution_count": 51,
   "id": "59746004-5c26-494d-9a5d-cec0f5b846dc",
   "metadata": {
    "tags": []
   },
   "outputs": [
    {
     "name": "stdout",
     "output_type": "stream",
     "text": [
      "Round1_T2D_100_m7 0.7408073770491803\n",
      "Round3_100_m7 0.8596906714279416\n",
      "Round4_100_m7 0.5877598437777384\n",
      "2T-2020_100_m7 0.48307443142660234\n",
      "HardTableR2-2021_100_m7 0.5472243243243243\n",
      "HardTableR3-2021_100_m7 0.49426482098854907\n"
     ]
    }
   ],
   "source": [
    "import statistics\n",
    "for id_dataset in buffer:\n",
    "    try:\n",
    "        print(id_dataset, statistics.mean(buffer[id_dataset]))\n",
    "    except:\n",
    "        pass"
   ]
  },
  {
   "cell_type": "code",
   "execution_count": 50,
   "id": "e929c030-2d86-493e-8d2e-d17ab0f8c336",
   "metadata": {
    "tags": []
   },
   "outputs": [
    {
     "data": {
      "image/png": "[encoded data removed]",
      "text/plain": [
       "<Figure size 400x3000 with 6 Axes>"
      ]
     },
     "metadata": {},
     "output_type": "display_data"
    }
   ],
   "source": [
    "import matplotlib.pyplot as plt\n",
    "import numpy as np\n",
    "\n",
    "\n",
    "    # Create a figure with subplots for each array\n",
    "fig, axs = plt.subplots(len(buffer), 1, figsize=(4, 30))\n",
    "\n",
    "# Iterate through each array and plot the histogram of the probability values\n",
    "for i, id_dataset in enumerate(buffer):\n",
    "    axs[i].hist(buffer[id_dataset], bins=10)\n",
    "    axs[i].set_xlabel('Probability Values')\n",
    "    axs[i].set_ylabel('Frequency')\n",
    "    axs[i].set_title(f'Distribution of Probability Values {id_dataset.split(\"_100\")[0]}')\n",
    "# Adjust the layout of the subplots\n",
    "fig.tight_layout()\n",
    "plt.subplots_adjust(wspace=0.3)\n",
    "\n",
    "# Display the plot\n",
    "plt.show()\n"
   ]
  },
  {
   "cell_type": "code",
   "execution_count": 44,
   "id": "60a6d840-919e-47fe-8224-b6484748467a",
   "metadata": {
    "tags": []
   },
   "outputs": [
    {
     "data": {
      "image/png": "[encoded data removed]",
      "text/plain": [
       "<Figure size 400x3000 with 6 Axes>"
      ]
     },
     "metadata": {},
     "output_type": "display_data"
    }
   ],
   "source": [
    "import matplotlib.pyplot as plt\n",
    "import numpy as np\n",
    "\n",
    "\n",
    "    # Create a figure with subplots for each array\n",
    "fig, axs = plt.subplots(len(buffer), 1, figsize=(4, 30))\n",
    "\n",
    "# Iterate through each array and plot the histogram of the probability values\n",
    "for i, id_dataset in enumerate(buffer):\n",
    "    axs[i].hist(buffer[id_dataset], bins=10)\n",
    "    axs[i].set_xlabel('Probability Values')\n",
    "    axs[i].set_ylabel('Frequency')\n",
    "    axs[i].set_title(f'Distribution of Probability Values {id_dataset.split(\"_100\")[0]}')\n",
    "# Adjust the layout of the subplots\n",
    "fig.tight_layout()\n",
    "plt.subplots_adjust(wspace=0.3)\n",
    "\n",
    "# Display the plot\n",
    "plt.show()"
   ]
  },
  {
   "cell_type": "code",
   "execution_count": 3,
   "id": "dccc3b68-8f90-4283-bbcb-77516c5a204c",
   "metadata": {
    "tags": []
   },
   "outputs": [
    {
     "name": "stderr",
     "output_type": "stream",
     "text": [
      "100%|██████████| 323/323 [00:00<00:00, 78673.65it/s]\n"
     ]
    }
   ],
   "source": [
    "cta1, cta2 = utils.get_cta_types_table_to_column(f\"{id_dataset}_100_m4\", top_k_type=5)"
   ]
  },
  {
   "cell_type": "code",
   "execution_count": 62,
   "id": "e3b4c878-26dc-4d35-b486-dfc13be7512d",
   "metadata": {
    "tags": []
   },
   "outputs": [
    {
     "name": "stderr",
     "output_type": "stream",
     "text": [
      "100%|██████████| 58949/58949 [00:09<00:00, 6114.74it/s]\n",
      "100%|██████████| 58948/58948 [00:00<00:00, 230396.05it/s]\n"
     ]
    },
    {
     "name": "stdout",
     "output_type": "stream",
     "text": [
      "HardTableR3-2021 {'P': 0.85276387044038, 'R': 0.8494944697021103, 'F1': 0.8511260304240673}\n"
     ]
    }
   ],
   "source": [
    "tables_path, cea_target_path, cpa_target_path, cta_target_path = list(dataset[id_dataset].values())\n",
    "metrics, ann, err = utils.cea_eval(f\"{id_dataset}_mtest6\", cea_target_path, resolve_disambiguation=True)\n",
    "print(id_dataset, metrics)"
   ]
  },
  {
   "cell_type": "code",
   "execution_count": 9,
   "id": "b0c9bfbd-aaad-4560-ac43-1e5bbdd0cc22",
   "metadata": {
    "tags": []
   },
   "outputs": [
    {
     "name": "stderr",
     "output_type": "stream",
     "text": [
      "100%|██████████| 29280/29280 [00:03<00:00, 7899.18it/s]\n",
      "100%|██████████| 47439/47439 [00:00<00:00, 158233.27it/s]"
     ]
    },
    {
     "name": "stdout",
     "output_type": "stream",
     "text": [
      "HardTableR2-2021 {'P': 0.9139609356774755, 'R': 0.9084508526739602, 'F1': 0.9111975642760488}\n"
     ]
    },
    {
     "name": "stderr",
     "output_type": "stream",
     "text": [
      "\n"
     ]
    }
   ],
   "source": [
    "tables_path, cea_target_path, cpa_target_path, cta_target_path = list(dataset[id_dataset].values())\n",
    "metrics, ann, err = utils.cea_eval(f\"{id_dataset}_mtest1\", cea_target_path, resolve_disambiguation=True)\n",
    "print(id_dataset, metrics)"
   ]
  },
  {
   "cell_type": "code",
   "execution_count": 2,
   "id": "c5cace62-122d-4fd5-9624-37f8c4caabbc",
   "metadata": {
    "tags": []
   },
   "outputs": [
    {
     "name": "stderr",
     "output_type": "stream",
     "text": [
      "100%|██████████| 283247/283247 [21:21<00:00, 220.94it/s]\n",
      "100%|██████████| 279104/279104 [00:01<00:00, 199820.09it/s]\n"
     ]
    },
    {
     "name": "stdout",
     "output_type": "stream",
     "text": [
      "mammotab 0.94\n"
     ]
    }
   ],
   "source": [
    "tables_path, cea_target_path, cpa_target_path, cta_target_path = list(dataset[id_dataset].values())\n",
    "metric, missing = utils.cea_eval_missing(f\"{id_dataset}_100\", cea_target_path)\n",
    "print(id_dataset, metric)"
   ]
  },
  {
   "cell_type": "code",
   "execution_count": null,
   "id": "e4c5a5d4-9746-451d-b773-f59f06070efb",
   "metadata": {
    "tags": []
   },
   "outputs": [],
   "source": [
    "tables_path, cea_target_path, cpa_target_path, cta_target_path = list(dataset[id_dataset].values())\n",
    "metrics, ann, err = utils.cea_eval(f\"{id_dataset}_mft\", cea_target_path, resolve_disambiguation=True)\n",
    "print(id_dataset, metrics)"
   ]
  },
  {
   "cell_type": "code",
   "execution_count": 3,
   "id": "20cd378b-2e42-458e-8eeb-5bb5d7b9aed3",
   "metadata": {
    "tags": []
   },
   "outputs": [
    {
     "name": "stderr",
     "output_type": "stream",
     "text": [
      "100%|██████████| 9089/9089 [00:17<00:00, 511.81it/s]\n",
      "100%|██████████| 8078/8078 [00:00<00:00, 37720.06it/s]\n"
     ]
    },
    {
     "name": "stdout",
     "output_type": "stream",
     "text": [
      "Round1_T2D 0.97\n"
     ]
    },
    {
     "name": "stderr",
     "output_type": "stream",
     "text": [
      "100%|██████████| 152753/152753 [08:43<00:00, 291.97it/s]\n",
      "100%|██████████| 390456/390456 [00:04<00:00, 78313.23it/s] \n"
     ]
    },
    {
     "name": "stdout",
     "output_type": "stream",
     "text": [
      "Round3 0.88\n"
     ]
    },
    {
     "name": "stderr",
     "output_type": "stream",
     "text": [
      "100%|██████████| 194438/194438 [15:30<00:00, 208.90it/s]\n",
      "100%|██████████| 667243/667243 [00:08<00:00, 79646.30it/s] \n"
     ]
    },
    {
     "name": "stdout",
     "output_type": "stream",
     "text": [
      "2T-2020 0.98\n"
     ]
    },
    {
     "name": "stderr",
     "output_type": "stream",
     "text": [
      "100%|██████████| 29280/29280 [00:52<00:00, 561.81it/s]\n",
      "100%|██████████| 47439/47439 [00:00<00:00, 80352.27it/s] \n"
     ]
    },
    {
     "name": "stdout",
     "output_type": "stream",
     "text": [
      "HardTableR2-2021 0.95\n"
     ]
    },
    {
     "name": "stderr",
     "output_type": "stream",
     "text": [
      "100%|██████████| 58949/58949 [00:53<00:00, 1094.91it/s]\n",
      "100%|██████████| 58948/58948 [00:00<00:00, 205816.43it/s]\n"
     ]
    },
    {
     "name": "stdout",
     "output_type": "stream",
     "text": [
      "HardTableR3-2021 0.88\n"
     ]
    }
   ],
   "source": [
    "for id_dataset in dataset:\n",
    "    tables_path, cea_target_path, cpa_target_path, cta_target_path = list(dataset[id_dataset].values())\n",
    "    metric, missing = utils.cea_eval_missing(f\"{id_dataset}_100_m4\", cea_target_path)\n",
    "    print(id_dataset, metric)"
   ]
  },
  {
   "cell_type": "code",
   "execution_count": 51,
   "id": "279bad30-d024-49d0-b039-ee3ce6990b8c",
   "metadata": {},
   "outputs": [
    {
     "name": "stderr",
     "output_type": "stream",
     "text": [
      "100%|██████████| 64/64 [00:00<00:00, 234.71it/s]\n",
      "100%|██████████| 8078/8078 [00:00<00:00, 161452.37it/s]\n"
     ]
    }
   ],
   "source": [
    "key_to_cell = utils.get_key_to_cell(tables_path)\n",
    "cell_to_entity = {}\n",
    "for key in tqdm(cea_gt):\n",
    "    if key not in key_to_cell:\n",
    "        continue\n",
    "    cell = key_to_cell[key]\n",
    "    if cell not in cell_to_entity:\n",
    "        cell_to_entity[cell] = []\n",
    "    entity = [id_entity.upper() for id_entity in cea_gt[key]]\n",
    "    if entity not in cell_to_entity[cell]:\n",
    "        cell_to_entity[cell].append(entity)"
   ]
  },
  {
   "cell_type": "code",
   "execution_count": 22,
   "id": "914aff82-6adb-480b-831b-20f038bdb277",
   "metadata": {},
   "outputs": [
    {
     "data": {
      "text/plain": [
       "45710"
      ]
     },
     "execution_count": 22,
     "metadata": {},
     "output_type": "execute_result"
    }
   ],
   "source": [
    "len(buffer)"
   ]
  },
  {
   "cell_type": "code",
   "execution_count": 52,
   "id": "d4343ab5-cf3a-462b-8a96-bd9b186de255",
   "metadata": {},
   "outputs": [
    {
     "name": "stderr",
     "output_type": "stream",
     "text": [
      "100%|██████████| 6174/6174 [00:00<00:00, 118242.20it/s]\n"
     ]
    }
   ],
   "source": [
    "buffer = []\n",
    "out = open(f\"{id_dataset}_gt.jsonl\", \"w\")\n",
    "for cell in tqdm(cell_to_entity):\n",
    "    buffer.append({\"cell\": cell, \"value\": cell_to_entity[cell]})\n",
    "    \n",
    "    if len(buffer) >= 1000:\n",
    "        out.write(f\"{json.dumps(buffer)}\\n\")\n",
    "        buffer = []\n",
    "        \n",
    "if len(buffer) > 0:\n",
    "    out.write(f\"{json.dumps(buffer)}\\n\")\n",
    "    buffer = []\n",
    "    \n",
    "out.close()    "
   ]
  },
  {
   "cell_type": "code",
   "execution_count": 7,
   "id": "2404b472-623b-4e83-9ebf-763095fd6444",
   "metadata": {
    "tags": []
   },
   "outputs": [
    {
     "name": "stderr",
     "output_type": "stream",
     "text": [
      "100%|██████████| 9089/9089 [00:01<00:00, 6501.50it/s]\n",
      "100%|██████████| 8078/8078 [00:00<00:00, 231439.51it/s]\n"
     ]
    },
    {
     "name": "stdout",
     "output_type": "stream",
     "text": [
      "Round1_T2D {'P': 0.862572737402501, 'R': 0.8624659569200297, 'F1': 0.8625193438563912}\n"
     ]
    },
    {
     "name": "stderr",
     "output_type": "stream",
     "text": [
      "100%|██████████| 152753/152753 [00:23<00:00, 6500.31it/s]\n",
      "100%|██████████| 390456/390456 [00:02<00:00, 140806.29it/s]\n"
     ]
    },
    {
     "name": "stdout",
     "output_type": "stream",
     "text": [
      "Round3 {'P': 0.7969502325486099, 'R': 0.7969502325486099, 'F1': 0.7969502325486099}\n"
     ]
    },
    {
     "name": "stderr",
     "output_type": "stream",
     "text": [
      "100%|██████████| 475877/475877 [01:12<00:00, 6585.23it/s]\n",
      "100%|██████████| 994920/994920 [00:07<00:00, 133669.97it/s]\n"
     ]
    },
    {
     "name": "stdout",
     "output_type": "stream",
     "text": [
      "Round4 {'P': 0.9286792220469167, 'R': 0.9246944477947976, 'F1': 0.9266825512661093}\n"
     ]
    },
    {
     "name": "stderr",
     "output_type": "stream",
     "text": [
      "100%|██████████| 194438/194438 [00:47<00:00, 4084.02it/s]\n",
      "100%|██████████| 667243/667243 [00:05<00:00, 116853.03it/s]\n"
     ]
    },
    {
     "name": "stdout",
     "output_type": "stream",
     "text": [
      "2T-2020 {'P': 0.9494787814782535, 'R': 0.9485794530628272, 'F1': 0.9490289042129049}\n"
     ]
    },
    {
     "name": "stderr",
     "output_type": "stream",
     "text": [
      "100%|██████████| 29280/29280 [00:03<00:00, 9420.24it/s] \n",
      "100%|██████████| 47439/47439 [00:00<00:00, 156703.21it/s]\n"
     ]
    },
    {
     "name": "stdout",
     "output_type": "stream",
     "text": [
      "HardTableR2-2021 {'P': 0.9139609356774755, 'R': 0.9084508526739602, 'F1': 0.9111975642760488}\n"
     ]
    },
    {
     "name": "stderr",
     "output_type": "stream",
     "text": [
      "100%|██████████| 58949/58949 [00:05<00:00, 11108.36it/s]\n",
      "100%|██████████| 58948/58948 [00:00<00:00, 153070.46it/s]\n"
     ]
    },
    {
     "name": "stdout",
     "output_type": "stream",
     "text": [
      "HardTableR3-2021 {'P': 0.7599196212663056, 'R': 0.75700617493384, 'F1': 0.7584601002804453}\n"
     ]
    },
    {
     "name": "stderr",
     "output_type": "stream",
     "text": [
      "0it [00:00, ?it/s]\n",
      "100%|██████████| 279104/279104 [00:01<00:00, 151189.13it/s]"
     ]
    },
    {
     "name": "stdout",
     "output_type": "stream",
     "text": [
      "mammotab {'P': 0, 'R': 0.0, 'F1': 0}\n"
     ]
    },
    {
     "name": "stderr",
     "output_type": "stream",
     "text": [
      "\n"
     ]
    }
   ],
   "source": [
    "for id_dataset in dataset:\n",
    "    tables_path, cea_target_path, cpa_target_path, cta_target_path = list(dataset[id_dataset].values())\n",
    "    metrics, ann, err = utils.cea_eval(f\"{id_dataset}_100_m7\", cea_target_path, resolve_disambiguation=True)\n",
    "    print(id_dataset, metrics)"
   ]
  },
  {
   "cell_type": "code",
   "execution_count": 3,
   "id": "a8fb6bf8-62c1-447a-b4ae-b15f76bb5bd6",
   "metadata": {
    "tags": []
   },
   "outputs": [
    {
     "name": "stderr",
     "output_type": "stream",
     "text": [
      "100%|██████████| 9089/9089 [00:01<00:00, 4705.73it/s]\n",
      "100%|██████████| 8078/8078 [00:00<00:00, 226652.40it/s]\n"
     ]
    },
    {
     "name": "stdout",
     "output_type": "stream",
     "text": [
      "Round1_T2D {'P': 0.7736783459205151, 'R': 0.7735825699430552, 'F1': 0.7736304549675023}\n"
     ]
    },
    {
     "name": "stderr",
     "output_type": "stream",
     "text": [
      "100%|██████████| 152753/152753 [00:31<00:00, 4850.76it/s]\n",
      "100%|██████████| 390456/390456 [00:03<00:00, 129938.32it/s]\n"
     ]
    },
    {
     "name": "stdout",
     "output_type": "stream",
     "text": [
      "Round3 {'P': 0.6988239391890507, 'R': 0.6988239391890507, 'F1': 0.6988239391890507}\n"
     ]
    },
    {
     "name": "stderr",
     "output_type": "stream",
     "text": [
      "100%|██████████| 475897/475897 [02:19<00:00, 3417.86it/s]\n",
      "100%|██████████| 994920/994920 [00:07<00:00, 132069.62it/s]\n"
     ]
    },
    {
     "name": "stdout",
     "output_type": "stream",
     "text": [
      "Round4 {'P': 0.8630506996448027, 'R': 0.8594047762634182, 'F1': 0.8612238792891147}\n"
     ]
    },
    {
     "name": "stderr",
     "output_type": "stream",
     "text": [
      "100%|██████████| 194438/194438 [00:48<00:00, 3989.26it/s]\n",
      "100%|██████████| 667243/667243 [00:05<00:00, 121629.72it/s]\n"
     ]
    },
    {
     "name": "stdout",
     "output_type": "stream",
     "text": [
      "2T-2020 {'P': 0.8202144879097405, 'R': 0.8194375961980868, 'F1': 0.8198258580024501}\n"
     ]
    },
    {
     "name": "stderr",
     "output_type": "stream",
     "text": [
      "100%|██████████| 29280/29280 [00:07<00:00, 3978.46it/s]\n",
      "100%|██████████| 47439/47439 [00:00<00:00, 115000.74it/s]\n"
     ]
    },
    {
     "name": "stdout",
     "output_type": "stream",
     "text": [
      "HardTableR2-2021 {'P': 0.8334994592072614, 'R': 0.8284744619405974, 'F1': 0.8309793640054126}\n"
     ]
    },
    {
     "name": "stderr",
     "output_type": "stream",
     "text": [
      "100%|██████████| 58949/58949 [00:05<00:00, 10164.40it/s]\n",
      "100%|██████████| 58948/58948 [00:00<00:00, 128401.77it/s]\n"
     ]
    },
    {
     "name": "stdout",
     "output_type": "stream",
     "text": [
      "HardTableR3-2021 {'P': 0.4777596130921971, 'R': 0.4759279364863948, 'F1': 0.47684201580691765}\n"
     ]
    },
    {
     "name": "stderr",
     "output_type": "stream",
     "text": [
      "0it [00:00, ?it/s]\n",
      "100%|██████████| 279104/279104 [00:01<00:00, 146095.14it/s]"
     ]
    },
    {
     "name": "stdout",
     "output_type": "stream",
     "text": [
      "mammotab {'P': 0, 'R': 0.0, 'F1': 0}\n"
     ]
    },
    {
     "name": "stderr",
     "output_type": "stream",
     "text": [
      "\n"
     ]
    }
   ],
   "source": [
    "for id_dataset in dataset:\n",
    "    tables_path, cea_target_path, cpa_target_path, cta_target_path = list(dataset[id_dataset].values())\n",
    "    metrics, ann, err = utils.cea_eval(f\"{id_dataset}_100_m5\", cea_target_path, resolve_disambiguation=True)\n",
    "    print(id_dataset, metrics)"
   ]
  },
  {
   "cell_type": "code",
   "execution_count": 2,
   "id": "b087b77f-4dcd-4d53-8b3d-b56429ccac16",
   "metadata": {
    "tags": []
   },
   "outputs": [
    {
     "name": "stderr",
     "output_type": "stream",
     "text": [
      "100%|██████████| 9089/9089 [00:01<00:00, 5029.85it/s]\n",
      "100%|██████████| 8078/8078 [00:00<00:00, 71217.66it/s]\n"
     ]
    },
    {
     "name": "stdout",
     "output_type": "stream",
     "text": [
      "Round1_T2D {'P': 0.9280966767371601, 'R': 0.7605843030453082, 'F1': 0.8360321132126821}\n"
     ]
    },
    {
     "name": "stderr",
     "output_type": "stream",
     "text": [
      "100%|██████████| 152753/152753 [00:34<00:00, 4479.04it/s]\n",
      "100%|██████████| 390456/390456 [00:02<00:00, 152145.77it/s]\n"
     ]
    },
    {
     "name": "stdout",
     "output_type": "stream",
     "text": [
      "Round3 {'P': 0.9125968211083634, 'R': 0.6436320609748601, 'F1': 0.7548717024488047}\n"
     ]
    },
    {
     "name": "stderr",
     "output_type": "stream",
     "text": [
      "100%|██████████| 475897/475897 [01:42<00:00, 4644.66it/s]\n",
      "100%|██████████| 994920/994920 [00:07<00:00, 136935.26it/s]\n"
     ]
    },
    {
     "name": "stdout",
     "output_type": "stream",
     "text": [
      "Round4 {'P': 0.9688161948369298, 'R': 0.8619466891810397, 'F1': 0.9122622256050372}\n"
     ]
    },
    {
     "name": "stderr",
     "output_type": "stream",
     "text": [
      "100%|██████████| 194438/194438 [00:50<00:00, 3814.27it/s]\n",
      "100%|██████████| 667243/667243 [00:05<00:00, 125503.39it/s]\n"
     ]
    },
    {
     "name": "stdout",
     "output_type": "stream",
     "text": [
      "2T-2020 {'P': 0.9839795257008958, 'R': 0.8873678704759735, 'F1': 0.9331798233689763}\n"
     ]
    },
    {
     "name": "stderr",
     "output_type": "stream",
     "text": [
      "100%|██████████| 29280/29280 [00:06<00:00, 4715.44it/s]\n",
      "100%|██████████| 47439/47439 [00:00<00:00, 156752.71it/s]\n"
     ]
    },
    {
     "name": "stdout",
     "output_type": "stream",
     "text": [
      "HardTableR2-2021 {'P': 0.9642328863454497, 'R': 0.8382132844284239, 'F1': 0.8968176999932341}\n"
     ]
    },
    {
     "name": "stderr",
     "output_type": "stream",
     "text": [
      "100%|██████████| 58949/58949 [00:06<00:00, 8990.79it/s] \n",
      "100%|██████████| 58948/58948 [00:00<00:00, 148102.57it/s]\n"
     ]
    },
    {
     "name": "stdout",
     "output_type": "stream",
     "text": [
      "HardTableR3-2021 {'P': 0.9336838221730308, 'R': 0.686910497387528, 'F1': 0.7915086594472027}\n"
     ]
    }
   ],
   "source": [
    "for id_dataset in dataset:\n",
    "    tables_path, cea_target_path, cpa_target_path, cta_target_path = list(dataset[id_dataset].values())\n",
    "    metrics, ann, err = utils.cea_eval(f\"{id_dataset}_100_m4\", cea_target_path, resolve_disambiguation=False)\n",
    "    print(id_dataset, metrics)"
   ]
  },
  {
   "cell_type": "code",
   "execution_count": 2,
   "id": "70690527-a9ac-49c8-9d83-badd1d11fd02",
   "metadata": {
    "tags": []
   },
   "outputs": [
    {
     "name": "stderr",
     "output_type": "stream",
     "text": [
      "100%|██████████| 9089/9089 [00:01<00:00, 6170.74it/s]\n",
      "100%|██████████| 8078/8078 [00:00<00:00, 82938.42it/s]\n"
     ]
    },
    {
     "name": "stdout",
     "output_type": "stream",
     "text": [
      "Round1_T2D {'P': 0.8670298378110685, 'R': 0.8669225055706858, 'F1': 0.8669761683689261}\n"
     ]
    },
    {
     "name": "stderr",
     "output_type": "stream",
     "text": [
      "100%|██████████| 152753/152753 [00:32<00:00, 4632.87it/s]\n",
      "100%|██████████| 390456/390456 [00:02<00:00, 149673.37it/s]\n"
     ]
    },
    {
     "name": "stdout",
     "output_type": "stream",
     "text": [
      "Round3 {'P': 0.7909393119839367, 'R': 0.7909393119839367, 'F1': 0.7909393119839367}\n"
     ]
    },
    {
     "name": "stderr",
     "output_type": "stream",
     "text": [
      "100%|██████████| 475897/475897 [01:40<00:00, 4713.41it/s]\n",
      "100%|██████████| 994920/994920 [00:07<00:00, 138027.08it/s]\n"
     ]
    },
    {
     "name": "stdout",
     "output_type": "stream",
     "text": [
      "Round4 {'P': 0.9328839618175523, 'R': 0.9289430305954247, 'F1': 0.930909325319784}\n"
     ]
    },
    {
     "name": "stderr",
     "output_type": "stream",
     "text": [
      "100%|██████████| 194438/194438 [00:49<00:00, 3940.61it/s]\n",
      "100%|██████████| 667243/667243 [00:05<00:00, 118027.36it/s]\n"
     ]
    },
    {
     "name": "stdout",
     "output_type": "stream",
     "text": [
      "2T-2020 {'P': 0.9542011757981792, 'R': 0.9532973744198141, 'F1': 0.9537490609916828}\n"
     ]
    },
    {
     "name": "stderr",
     "output_type": "stream",
     "text": [
      "100%|██████████| 29280/29280 [00:05<00:00, 5521.70it/s]\n",
      "100%|██████████| 47439/47439 [00:00<00:00, 150635.43it/s]\n"
     ]
    },
    {
     "name": "stdout",
     "output_type": "stream",
     "text": [
      "HardTableR2-2021 {'P': 0.9176298432761436, 'R': 0.9120976411813065, 'F1': 0.9148553788903924}\n"
     ]
    },
    {
     "name": "stderr",
     "output_type": "stream",
     "text": [
      "100%|██████████| 58949/58949 [00:05<00:00, 10236.95it/s]\n",
      "100%|██████████| 58948/58948 [00:00<00:00, 171033.36it/s]"
     ]
    },
    {
     "name": "stdout",
     "output_type": "stream",
     "text": [
      "HardTableR3-2021 {'P': 0.7844760055856408, 'R': 0.7814684128384338, 'F1': 0.7829693209824085}\n"
     ]
    },
    {
     "name": "stderr",
     "output_type": "stream",
     "text": [
      "\n"
     ]
    }
   ],
   "source": [
    "for id_dataset in dataset:\n",
    "    tables_path, cea_target_path, cpa_target_path, cta_target_path = list(dataset[id_dataset].values())\n",
    "    metrics, ann, err = utils.cea_eval(f\"{id_dataset}_100_m4\", cea_target_path, resolve_disambiguation=True)\n",
    "    print(id_dataset, metrics)"
   ]
  },
  {
   "cell_type": "code",
   "execution_count": 2,
   "id": "eb8f2fb0-5620-4b0a-9f0a-3a7d4b810b39",
   "metadata": {
    "tags": []
   },
   "outputs": [
    {
     "name": "stderr",
     "output_type": "stream",
     "text": [
      "100%|██████████| 9089/9089 [00:02<00:00, 4266.34it/s]\n",
      "100%|██████████| 8078/8078 [00:00<00:00, 223822.56it/s]\n"
     ]
    },
    {
     "name": "stdout",
     "output_type": "stream",
     "text": [
      "Round1_T2D {'P': 0.8375634517766497, 'R': 0.8374597672691261, 'F1': 0.8375116063138348}\n"
     ]
    },
    {
     "name": "stderr",
     "output_type": "stream",
     "text": [
      "100%|██████████| 152753/152753 [00:31<00:00, 4917.42it/s]\n",
      "100%|██████████| 390456/390456 [00:02<00:00, 148484.56it/s]\n"
     ]
    },
    {
     "name": "stdout",
     "output_type": "stream",
     "text": [
      "Round3 {'P': 0.7721740733911119, 'R': 0.7721740733911119, 'F1': 0.7721740733911119}\n"
     ]
    },
    {
     "name": "stderr",
     "output_type": "stream",
     "text": [
      "100%|██████████| 475897/475897 [01:52<00:00, 4238.94it/s]\n",
      "100%|██████████| 994920/994920 [00:07<00:00, 133990.69it/s]\n"
     ]
    },
    {
     "name": "stdout",
     "output_type": "stream",
     "text": [
      "Round4 {'P': 0.9177868150036792, 'R': 0.9139096610782776, 'F1': 0.9158441346530106}\n"
     ]
    },
    {
     "name": "stderr",
     "output_type": "stream",
     "text": [
      "100%|██████████| 194438/194438 [00:56<00:00, 3428.79it/s]\n",
      "100%|██████████| 667243/667243 [00:05<00:00, 122528.78it/s]\n"
     ]
    },
    {
     "name": "stdout",
     "output_type": "stream",
     "text": [
      "2T-2020 {'P': 0.9405905393100323, 'R': 0.9396996296701502, 'F1': 0.9401448734269268}\n"
     ]
    },
    {
     "name": "stderr",
     "output_type": "stream",
     "text": [
      "100%|██████████| 29280/29280 [00:06<00:00, 4589.63it/s]\n",
      "100%|██████████| 47439/47439 [00:00<00:00, 155099.87it/s]\n"
     ]
    },
    {
     "name": "stdout",
     "output_type": "stream",
     "text": [
      "HardTableR2-2021 {'P': 0.8986914936483362, 'R': 0.8932734669786463, 'F1': 0.8959742895805143}\n"
     ]
    },
    {
     "name": "stderr",
     "output_type": "stream",
     "text": [
      "100%|██████████| 58949/58949 [00:07<00:00, 8176.86it/s]\n",
      "100%|██████████| 58948/58948 [00:00<00:00, 168447.92it/s]"
     ]
    },
    {
     "name": "stdout",
     "output_type": "stream",
     "text": [
      "HardTableR3-2021 {'P': 0.7216545757978271, 'R': 0.7188878333446428, 'F1': 0.7202685476332116}\n"
     ]
    },
    {
     "name": "stderr",
     "output_type": "stream",
     "text": [
      "\n"
     ]
    }
   ],
   "source": [
    "for id_dataset in dataset:\n",
    "    tables_path, cea_target_path, cpa_target_path, cta_target_path = list(dataset[id_dataset].values())\n",
    "    metrics, ann, err = utils.cea_eval(f\"{id_dataset}_100_m4\", cea_target_path, resolve_disambiguation=True)\n",
    "    print(id_dataset, metrics)"
   ]
  },
  {
   "cell_type": "code",
   "execution_count": 5,
   "id": "41a10e3f-0784-4caf-9bc8-7de8fb7e9c31",
   "metadata": {},
   "outputs": [
    {
     "name": "stderr",
     "output_type": "stream",
     "text": [
      "100%|██████████| 194438/194438 [00:29<00:00, 6606.03it/s]\n",
      "100%|██████████| 194438/194438 [00:29<00:00, 6486.66it/s] \n",
      "100%|██████████| 147564/147564 [00:25<00:00, 5866.64it/s]\n",
      "100%|██████████| 194438/194438 [00:29<00:00, 6609.01it/s] \n",
      "100%|██████████| 147564/147564 [00:23<00:00, 6315.14it/s] \n",
      "100%|██████████| 114425/114425 [00:18<00:00, 6323.58it/s]\n"
     ]
    }
   ],
   "source": [
    "my_cea_ann_it1, delta1_it1 = utils.get_my_cea_annotation_only_match_false(id_dataset)\n",
    "my_cea_ann_it2, delta_it2 = utils.get_my_cea_annotation_only_match_false(id_dataset, ids=[f\"{id_dataset}_iteration_1\"])\n",
    "my_cea_ann_it3, delta_it3 = utils.get_my_cea_annotation_only_match_false(id_dataset, ids=[f\"{id_dataset}_iteration_1\", f\"{id_dataset}_iteration_2\"])"
   ]
  },
  {
   "cell_type": "code",
   "execution_count": 3,
   "id": "a2095e90-d294-462d-a368-273649285943",
   "metadata": {},
   "outputs": [
    {
     "data": {
      "text/plain": [
       "({'P': 0.1219532519478355,\n",
       "  'R': 0.004386707691200957,\n",
       "  'F1': 0.008468789602513729},\n",
       " {'P': 0.1405013766120852,\n",
       "  'R': 0.0072657187861094085,\n",
       "  'F1': 0.01381692573402418},\n",
       " {'P': 0.16986648474807522,\n",
       "  'R': 0.01044896686814249,\n",
       "  'F1': 0.019686934815971495})"
      ]
     },
     "execution_count": 3,
     "metadata": {},
     "output_type": "execute_result"
    }
   ],
   "source": [
    "utils.cea_eval_my_ann(my_cea_ann_it1, cea_gt), utils.cea_eval_my_ann(my_cea_ann_it2, cea_gt), utils.cea_eval_my_ann(my_cea_ann_it3, cea_gt)"
   ]
  },
  {
   "cell_type": "code",
   "execution_count": 6,
   "id": "3f55aa55-295d-48c8-90e8-4fdb285a79d1",
   "metadata": {},
   "outputs": [
    {
     "data": {
      "text/plain": [
       "(0.091, 0.102, 0.121)"
      ]
     },
     "execution_count": 6,
     "metadata": {},
     "output_type": "execute_result"
    }
   ],
   "source": [
    "delta1_it1, delta_it2, delta_it3"
   ]
  },
  {
   "cell_type": "code",
   "execution_count": 14,
   "id": "9b326207-c5bc-45b2-9256-c39171ea52ab",
   "metadata": {},
   "outputs": [
    {
     "data": {
      "text/plain": [
       "(24001, 34505, 41044)"
      ]
     },
     "execution_count": 14,
     "metadata": {},
     "output_type": "execute_result"
    }
   ],
   "source": [
    "len(my_cea_ann_it1), len(my_cea_ann_it2), len(my_cea_ann_it3)"
   ]
  },
  {
   "cell_type": "code",
   "execution_count": 43,
   "id": "39717d09-3a9e-42b4-9690-5de9e8c8e7e8",
   "metadata": {},
   "outputs": [
    {
     "name": "stderr",
     "output_type": "stream",
     "text": [
      "100%|██████████| 9089/9089 [00:00<00:00, 9215.15it/s] \n",
      "100%|██████████| 4724/4724 [00:00<00:00, 16725.96it/s]\n",
      "100%|██████████| 2169/2169 [00:00<00:00, 17084.60it/s]\n",
      "100%|██████████| 8078/8078 [00:00<00:00, 125743.51it/s]\n",
      "100%|██████████| 152753/152753 [00:21<00:00, 7081.13it/s] \n",
      "100%|██████████| 98354/98354 [00:09<00:00, 9835.84it/s] \n",
      "100%|██████████| 49287/49287 [00:01<00:00, 27187.20it/s]\n",
      "100%|██████████| 390456/390456 [00:03<00:00, 110270.03it/s]\n",
      "100%|██████████| 475897/475897 [00:56<00:00, 8416.28it/s] \n",
      "100%|██████████| 250083/250083 [00:09<00:00, 26816.02it/s]\n",
      "100%|██████████| 8085/8085 [00:00<00:00, 11673.32it/s]\n",
      "100%|██████████| 994920/994920 [00:09<00:00, 100863.17it/s]\n",
      "100%|██████████| 194438/194438 [00:29<00:00, 6602.72it/s] \n",
      "100%|██████████| 147564/147564 [00:23<00:00, 6259.26it/s] \n",
      "100%|██████████| 114425/114425 [00:19<00:00, 5934.47it/s]\n",
      "100%|██████████| 667243/667243 [00:06<00:00, 97500.16it/s] \n",
      "100%|██████████| 29280/29280 [00:03<00:00, 8682.67it/s] \n",
      "100%|██████████| 12962/12962 [00:00<00:00, 13665.04it/s]\n",
      "100%|██████████| 7407/7407 [00:00<00:00, 13339.01it/s]\n",
      "100%|██████████| 47439/47439 [00:00<00:00, 111685.53it/s]\n",
      "100%|██████████| 58949/58949 [00:03<00:00, 14759.65it/s]\n",
      "100%|██████████| 23398/23398 [00:02<00:00, 10209.94it/s]\n",
      "100%|██████████| 9298/9298 [00:00<00:00, 18301.83it/s]\n",
      "100%|██████████| 58948/58948 [00:00<00:00, 134236.24it/s]\n"
     ]
    }
   ],
   "source": [
    "results = []\n",
    "for id_dataset in dataset:\n",
    "    my_cea_ann, delta = utils.get_my_cea_annotation_only_match_false2(id_dataset, ids=[f\"{id_dataset}_iteration_1\", f\"{id_dataset}_iteration_2\"])\n",
    "    tables_path, cea_target_path, cpa_target_path, cta_target_path = list(dataset[id_dataset].values())\n",
    "    cea_gt = utils.get_cea_ann(cea_target_path)\n",
    "    results.append((id_dataset, my_cea_ann, delta, cea_gt))"
   ]
  },
  {
   "cell_type": "code",
   "execution_count": 6,
   "id": "fba20cba-491a-4957-b224-87b482179d92",
   "metadata": {},
   "outputs": [
    {
     "data": {
      "text/plain": [
       "(24001, 19683, 5855)"
      ]
     },
     "execution_count": 6,
     "metadata": {},
     "output_type": "execute_result"
    }
   ],
   "source": [
    "len(my_cea_ann[0][\"unsolved\"]), len(my_cea_ann[1][\"solved\"]), len(my_cea_ann[2][\"solved\"])"
   ]
  },
  {
   "cell_type": "code",
   "execution_count": 28,
   "id": "e292fdaf-c37b-4f6c-9684-bc0cec95195c",
   "metadata": {},
   "outputs": [
    {
     "name": "stdout",
     "output_type": "stream",
     "text": [
      "Round1_T2D \t\t\t 49.187432286023835 16.857610474631752\n",
      "Round3 \t\t\t 50.60942473410449 0.005351886540005351\n",
      "Round4 \t\t\t 3.678205711069256 1.1117788461538463\n",
      "2T-2020 \t\t\t 82.00908295487687 41.574948519491585\n",
      "HardTableR2-2021 \t\t\t 74.49051300070273 23.395445134575567\n",
      "HardTableR3-2021 \t\t\t 62.683965917893104 11.72453044963005\n"
     ]
    }
   ],
   "source": [
    "for result in results:\n",
    "    print(result[0], \"\\t\\t\\t\", \n",
    "              len(result[1][1][\"solved\"])/len(result[1][0][\"unsolved\"])*100, \n",
    "              len(result[1][2][\"solved\"])/len(result[1][1][\"unsolved\"])*100)"
   ]
  },
  {
   "cell_type": "code",
   "execution_count": 40,
   "id": "751ad4da-6327-42e1-aa90-e7f79055de3a",
   "metadata": {},
   "outputs": [
    {
     "ename": "ZeroDivisionError",
     "evalue": "float division by zero",
     "output_type": "error",
     "traceback": [
      "\u001b[0;31m---------------------------------------------------------------------------\u001b[0m",
      "\u001b[0;31mZeroDivisionError\u001b[0m                         Traceback (most recent call last)",
      "Input \u001b[0;32mIn [40]\u001b[0m, in \u001b[0;36m<cell line: 1>\u001b[0;34m()\u001b[0m\n\u001b[1;32m      1\u001b[0m \u001b[38;5;28;01mfor\u001b[39;00m result \u001b[38;5;129;01min\u001b[39;00m results:\n\u001b[0;32m----> 2\u001b[0m     \u001b[38;5;28mprint\u001b[39m(result[\u001b[38;5;241m0\u001b[39m], \u001b[38;5;124m\"\u001b[39m\u001b[38;5;130;01m\\t\u001b[39;00m\u001b[38;5;130;01m\\t\u001b[39;00m\u001b[38;5;130;01m\\t\u001b[39;00m\u001b[38;5;124m\"\u001b[39m, \u001b[43mutils\u001b[49m\u001b[38;5;241;43m.\u001b[39;49m\u001b[43mcea_eval_my_ann\u001b[49m\u001b[43m(\u001b[49m\u001b[43mresult\u001b[49m\u001b[43m[\u001b[49m\u001b[38;5;241;43m1\u001b[39;49m\u001b[43m]\u001b[49m\u001b[43m[\u001b[49m\u001b[38;5;241;43m2\u001b[39;49m\u001b[43m]\u001b[49m\u001b[43m[\u001b[49m\u001b[38;5;124;43m\"\u001b[39;49m\u001b[38;5;124;43msolved\u001b[39;49m\u001b[38;5;124;43m\"\u001b[39;49m\u001b[43m]\u001b[49m\u001b[43m,\u001b[49m\u001b[43m \u001b[49m\u001b[43mresult\u001b[49m\u001b[43m[\u001b[49m\u001b[38;5;241;43m3\u001b[39;49m\u001b[43m]\u001b[49m\u001b[43m)\u001b[49m)\n",
      "File \u001b[0;32m~/work/utils/utils.py:207\u001b[0m, in \u001b[0;36mcea_eval_my_ann\u001b[0;34m(my_annotations, gt_ann)\u001b[0m\n\u001b[1;32m    205\u001b[0m p \u001b[38;5;241m=\u001b[39m (a\u001b[38;5;241m/\u001b[39mtotal_my_ann) \u001b[38;5;28;01mif\u001b[39;00m total_my_ann \u001b[38;5;241m>\u001b[39m \u001b[38;5;241m0\u001b[39m \u001b[38;5;28;01melse\u001b[39;00m \u001b[38;5;241m0\u001b[39m\n\u001b[1;32m    206\u001b[0m r \u001b[38;5;241m=\u001b[39m (a\u001b[38;5;241m/\u001b[39m\u001b[38;5;28mlen\u001b[39m(gt_ann))\n\u001b[0;32m--> 207\u001b[0m f1 \u001b[38;5;241m=\u001b[39m \u001b[43m(\u001b[49m\u001b[38;5;241;43m2\u001b[39;49m\u001b[38;5;241;43m*\u001b[39;49m\u001b[43mp\u001b[49m\u001b[38;5;241;43m*\u001b[39;49m\u001b[43mr\u001b[49m\u001b[43m)\u001b[49m\u001b[38;5;241;43m/\u001b[39;49m\u001b[43m(\u001b[49m\u001b[43mp\u001b[49m\u001b[38;5;241;43m+\u001b[39;49m\u001b[43mr\u001b[49m\u001b[43m)\u001b[49m \u001b[38;5;28;01mif\u001b[39;00m total_my_ann \u001b[38;5;241m>\u001b[39m \u001b[38;5;241m0\u001b[39m \u001b[38;5;28;01melse\u001b[39;00m \u001b[38;5;241m0\u001b[39m\n\u001b[1;32m    208\u001b[0m \u001b[38;5;28;01mreturn\u001b[39;00m {\u001b[38;5;124m\"\u001b[39m\u001b[38;5;124mP\u001b[39m\u001b[38;5;124m\"\u001b[39m: p, \u001b[38;5;124m\"\u001b[39m\u001b[38;5;124mR\u001b[39m\u001b[38;5;124m\"\u001b[39m: r, \u001b[38;5;124m\"\u001b[39m\u001b[38;5;124mF1\u001b[39m\u001b[38;5;124m\"\u001b[39m: f1}\n",
      "\u001b[0;31mZeroDivisionError\u001b[0m: float division by zero"
     ]
    }
   ],
   "source": [
    "for result in results:\n",
    "    print(result[0], \"\\t\\t\\t\", utils.cea_eval_my_ann(result[1][2][\"solved\"], result[3]))"
   ]
  },
  {
   "cell_type": "code",
   "execution_count": 11,
   "id": "8166051f-544e-48fc-bbc9-4567a04a8275",
   "metadata": {},
   "outputs": [
    {
     "data": {
      "text/plain": [
       "(0.091, 0.094, 0.093)"
      ]
     },
     "execution_count": 11,
     "metadata": {},
     "output_type": "execute_result"
    }
   ],
   "source": [
    "delta[0], delta[1], delta[2]"
   ]
  },
  {
   "cell_type": "code",
   "execution_count": null,
   "id": "95ddb868-a851-49da-a012-5c236859d4b5",
   "metadata": {},
   "outputs": [],
   "source": [
    "result[3]"
   ]
  },
  {
   "cell_type": "code",
   "execution_count": 7,
   "id": "e4244a62-2087-421f-8bd2-5838522bf424",
   "metadata": {},
   "outputs": [
    {
     "data": {
      "text/plain": [
       "(24001, 14083, 15812)"
      ]
     },
     "execution_count": 7,
     "metadata": {},
     "output_type": "execute_result"
    }
   ],
   "source": [
    "len(my_cea_ann[0][\"unsolved\"]), len(my_cea_ann[1][\"unsolved\"]), len(my_cea_ann[2][\"unsolved\"])"
   ]
  },
  {
   "cell_type": "code",
   "execution_count": 7,
   "id": "cb106bc8-e0e1-4add-83f4-53c5a81218e3",
   "metadata": {},
   "outputs": [
    {
     "data": {
      "text/plain": [
       "({'P': 0.1219532519478355,\n",
       "  'R': 0.004386707691200957,\n",
       "  'F1': 0.008468789602513729},\n",
       " {'P': 0.6991312299954275,\n",
       "  'R': 0.020623670836561792,\n",
       "  'F1': 0.04006545100927902},\n",
       " {'P': 0.30145175064047824,\n",
       "  'R': 0.0026452132131772085,\n",
       "  'F1': 0.0052444072037058495})"
      ]
     },
     "execution_count": 7,
     "metadata": {},
     "output_type": "execute_result"
    }
   ],
   "source": [
    "utils.cea_eval_my_ann(my_cea_ann_it3[0][\"unsolved\"], cea_gt), utils.cea_eval_my_ann(my_cea_ann_it3[1][\"solved\"], cea_gt), utils.cea_eval_my_ann(my_cea_ann_it3[2][\"solved\"], cea_gt)"
   ]
  },
  {
   "cell_type": "code",
   "execution_count": null,
   "id": "05296124-e384-40d7-9e67-c1a66995ba75",
   "metadata": {},
   "outputs": [],
   "source": [
    "my_cea_ann_it3"
   ]
  },
  {
   "cell_type": "code",
   "execution_count": 9,
   "id": "edb113fc-8afc-4c63-b321-d8c325cc16d1",
   "metadata": {},
   "outputs": [
    {
     "data": {
      "text/plain": [
       "{'P': 0.9012505511618962, 'R': 0.28795206543942764, 'F1': 0.4364554098059014}"
      ]
     },
     "execution_count": 9,
     "metadata": {},
     "output_type": "execute_result"
    }
   ],
   "source": [
    "metrics"
   ]
  },
  {
   "cell_type": "code",
   "execution_count": 3,
   "id": "2f4ecf6f-2982-4924-bccf-9909f8145922",
   "metadata": {},
   "outputs": [
    {
     "data": {
      "text/plain": [
       "['q17267']"
      ]
     },
     "execution_count": 3,
     "metadata": {},
     "output_type": "execute_result"
    }
   ],
   "source": [
    "cea_gt[\"6GUK4TSI 4 0\"]"
   ]
  },
  {
   "cell_type": "code",
   "execution_count": 1,
   "id": "fbec9e25-8a2d-41c0-99fe-23d47814f58f",
   "metadata": {},
   "outputs": [
    {
     "ename": "ModuleNotFoundError",
     "evalue": "No module named 'URLs'",
     "output_type": "error",
     "traceback": [
      "\u001b[0;31m---------------------------------------------------------------------------\u001b[0m",
      "\u001b[0;31mModuleNotFoundError\u001b[0m                       Traceback (most recent call last)",
      "Input \u001b[0;32mIn [1]\u001b[0m, in \u001b[0;36m<cell line: 2>\u001b[0;34m()\u001b[0m\n\u001b[1;32m      1\u001b[0m \u001b[38;5;28;01mimport\u001b[39;00m \u001b[38;5;21;01mos\u001b[39;00m\n\u001b[0;32m----> 2\u001b[0m \u001b[38;5;28;01mfrom\u001b[39;00m \u001b[38;5;21;01mprocess\u001b[39;00m\u001b[38;5;21;01m.\u001b[39;00m\u001b[38;5;21;01mlamAPI\u001b[39;00m \u001b[38;5;28;01mimport\u001b[39;00m LamAPI\n\u001b[1;32m      5\u001b[0m LAMAPI_HOST, LAMAPI_PORT  \u001b[38;5;241m=\u001b[39m os\u001b[38;5;241m.\u001b[39menviron[\u001b[38;5;124m\"\u001b[39m\u001b[38;5;124mLAMAPI_ENDPOINT\u001b[39m\u001b[38;5;124m\"\u001b[39m]\u001b[38;5;241m.\u001b[39msplit(\u001b[38;5;124m\"\u001b[39m\u001b[38;5;124m:\u001b[39m\u001b[38;5;124m\"\u001b[39m)\n\u001b[1;32m      6\u001b[0m LAMAPI_TOKEN \u001b[38;5;241m=\u001b[39m os\u001b[38;5;241m.\u001b[39menviron[\u001b[38;5;124m\"\u001b[39m\u001b[38;5;124mLAMAPI_TOKEN\u001b[39m\u001b[38;5;124m\"\u001b[39m]\n",
      "File \u001b[0;32m~/work/process/lamAPI.py:3\u001b[0m, in \u001b[0;36m<module>\u001b[0;34m\u001b[0m\n\u001b[1;32m      1\u001b[0m \u001b[38;5;28;01mimport\u001b[39;00m \u001b[38;5;21;01mos\u001b[39;00m\n\u001b[1;32m      2\u001b[0m \u001b[38;5;28;01mimport\u001b[39;00m \u001b[38;5;21;01mrequests\u001b[39;00m\n\u001b[0;32m----> 3\u001b[0m \u001b[38;5;28;01mfrom\u001b[39;00m \u001b[38;5;21;01mURLs\u001b[39;00m \u001b[38;5;28;01mimport\u001b[39;00m URLs\n\u001b[1;32m      5\u001b[0m headers \u001b[38;5;241m=\u001b[39m {\n\u001b[1;32m      6\u001b[0m     \u001b[38;5;124m'\u001b[39m\u001b[38;5;124maccept\u001b[39m\u001b[38;5;124m'\u001b[39m: \u001b[38;5;124m'\u001b[39m\u001b[38;5;124mapplication/json\u001b[39m\u001b[38;5;124m'\u001b[39m\n\u001b[1;32m      7\u001b[0m }\n\u001b[1;32m      9\u001b[0m LAMAPI_TOKEN \u001b[38;5;241m=\u001b[39m  os\u001b[38;5;241m.\u001b[39menviron[\u001b[38;5;124m\"\u001b[39m\u001b[38;5;124mLAMAPI_TOKEN\u001b[39m\u001b[38;5;124m\"\u001b[39m]\n",
      "\u001b[0;31mModuleNotFoundError\u001b[0m: No module named 'URLs'"
     ]
    }
   ],
   "source": [
    "import os\n",
    "from process.lamAPI import LamAPI\n",
    "\n",
    "\n",
    "LAMAPI_HOST, LAMAPI_PORT  = os.environ[\"LAMAPI_ENDPOINT\"].split(\":\")\n",
    "LAMAPI_TOKEN = os.environ[\"LAMAPI_TOKEN\"]\n",
    "lamapi_wrapper = LamAPI(LAMAPI_HOST, LAMAPI_PORT, LAMAPI_TOKEN)"
   ]
  },
  {
   "cell_type": "code",
   "execution_count": 2,
   "id": "685c3298-c944-4394-a4eb-64bb84cbe25b",
   "metadata": {},
   "outputs": [],
   "source": [
    "result = lamapi_wrapper.lookup(\"Tommy Hilfgiher\")\n",
    "result2 = lamapi_wrapper.objects([\"Q50\", \"Q30\"])\n",
    "result3 = lamapi_wrapper.literals([\"Q50\", \"Q30\"])\n",
    "result_lit = lamapi_wrapper.literal_recognizer([\"12\", \"20\", \"300\"])"
   ]
  },
  {
   "cell_type": "code",
   "execution_count": 3,
   "id": "c483558d-2ba4-47a6-8239-bbb9d68410da",
   "metadata": {},
   "outputs": [
    {
     "data": {
      "text/plain": [
       "{'NUMBER': 3}"
      ]
     },
     "execution_count": 3,
     "metadata": {},
     "output_type": "execute_result"
    }
   ],
   "source": [
    "result_lit"
   ]
  },
  {
   "cell_type": "code",
   "execution_count": null,
   "id": "6f6cd642-e094-40a8-a9ed-93ff307c93d5",
   "metadata": {},
   "outputs": [],
   "source": [
    "result2"
   ]
  },
  {
   "cell_type": "code",
   "execution_count": 18,
   "id": "c44ceac7-4e37-4c66-83b9-f23b9cc01a75",
   "metadata": {},
   "outputs": [
    {
     "data": {
      "text/plain": [
       "True"
      ]
     },
     "execution_count": 18,
     "metadata": {},
     "output_type": "execute_result"
    }
   ],
   "source": [
    "types = [\n",
    "    {'id': 'Q5', 'name': 'human'},\n",
    "   {'id': 'Q639669', 'name': 'musician'},\n",
    "   {'id': 'Q177220', 'name': 'singer'}\n",
    "]\n",
    "{\"id\":\"Q5\", \"name\": \"human\"} in types"
   ]
  },
  {
   "cell_type": "code",
   "execution_count": null,
   "id": "8addf3ee-5657-4aa7-9175-a2230cf26c09",
   "metadata": {},
   "outputs": [],
   "source": [
    "types = \"Q5 Q177220\"\n",
    "sorted(list(result.values())[0], key=lambda x: (sum([t_e[\"id\"] == t or t_e[\"name\"] == t \n",
    "                                                     for t in types.split() for t_e in x[\"types\"]]), \n",
    "                                                x['ed_score'],  \n",
    "                                                -len(x['id'])), reverse=True) "
   ]
  },
  {
   "cell_type": "code",
   "execution_count": null,
   "id": "d80ea88c-33cd-40c6-803d-4af8dbd9ff4b",
   "metadata": {},
   "outputs": [],
   "source": [
    "result"
   ]
  },
  {
   "cell_type": "code",
   "execution_count": 2,
   "id": "78583f5d-9cf0-4787-9099-e9048d74e844",
   "metadata": {},
   "outputs": [
    {
     "name": "stderr",
     "output_type": "stream",
     "text": [
      "100%|██████████| 534618/534618 [00:31<00:00, 17134.96it/s]\n"
     ]
    }
   ],
   "source": [
    "import os\n",
    "import json\n",
    "import requests\n",
    "import pandas as pd\n",
    "import utils.utils as utils\n",
    "from tqdm import tqdm\n",
    "from pymongo import MongoClient\n",
    "from process.wrapper import mongodb_conn\n",
    "import numpy as np\n",
    "import matplotlib.pyplot as plt\n",
    "\n",
    "df = pd.read_csv(\"data/ml3/Round1_T2D_100.csv\")\n",
    "for item in tqdm(df.iterrows(), total=len(df.index)):\n",
    "    pass"
   ]
  },
  {
   "cell_type": "code",
   "execution_count": 3,
   "id": "0bad4083-a608-4cd0-8e18-c584cf0f44a6",
   "metadata": {},
   "outputs": [],
   "source": [
    "import dask.dataframe as dd\n",
    "from dask.distributed import Client\n",
    "# Use all 8 cores\n",
    "client = Client(processes = True)\n",
    "# Load the data into a Dask DataFrame\n",
    "df = dd.read_csv(\"data/ml3/Round4_100.csv\", dtype={\n",
    "       'tableName': 'string',\n",
    "       'desc': 'object',\n",
    "       'descNgram': 'object',\n",
    "       'ed': 'object',\n",
    "       'jaccard': 'object',\n",
    "       'jaccardNgram': 'object',\n",
    "       'p_obj_ne': 'object',\n",
    "       'p_subj_lit': 'object',\n",
    "       'p_subj_ne': 'object',\n",
    "       'target': 'object'})\n",
    "\n",
    "result = df.map_partitions(lambda d: d.drop_duplicates(subset=['ed', 'jaccard', 'jaccardNgram', 'p_subj_ne', 'p_subj_lit', 'p_obj_ne', 'desc', 'descNgram']))\n",
    "#new_df = df.drop_duplicates()"
   ]
  },
  {
   "cell_type": "code",
   "execution_count": null,
   "id": "01446734-4b13-42bc-8138-b98bc479c0e3",
   "metadata": {},
   "outputs": [],
   "source": []
  },
  {
   "cell_type": "code",
   "execution_count": 6,
   "id": "90768e4d-2782-4fcc-bb34-2c1b9638a550",
   "metadata": {},
   "outputs": [],
   "source": [
    "result = result.compute()"
   ]
  },
  {
   "cell_type": "code",
   "execution_count": null,
   "id": "03aa3326-eb65-498c-b661-7bd249a93ec3",
   "metadata": {},
   "outputs": [],
   "source": [
    "len(df.index)"
   ]
  },
  {
   "cell_type": "code",
   "execution_count": null,
   "id": "8fc1b19b-1b1b-468c-bcd0-d7b36c856a84",
   "metadata": {},
   "outputs": [],
   "source": [
    "result.compute()"
   ]
  },
  {
   "cell_type": "code",
   "execution_count": 2,
   "id": "f8ce9d24-80ed-4793-be1b-85e4a788fbd0",
   "metadata": {},
   "outputs": [],
   "source": [
    "new_df = df.drop_duplicates(subset=['ed', 'jaccard', 'jaccardNgram', 'p_subj_ne', 'p_subj_lit', 'p_obj_ne', 'desc', 'descNgram'])\n",
    "#df[df[\"ed\"] != \"ed\"].compute().to_csv(\"./data/ml5/Round4_100.csv\", index=False)"
   ]
  },
  {
   "cell_type": "code",
   "execution_count": null,
   "id": "b0132129-0557-4d5a-912f-d14cc29e46a4",
   "metadata": {},
   "outputs": [],
   "source": [
    "new_df.compute()"
   ]
  },
  {
   "cell_type": "code",
   "execution_count": 9,
   "id": "e99ec5c3-b635-498a-94b7-82fda94378ad",
   "metadata": {},
   "outputs": [],
   "source": [
    "new_df = new_df.compute()"
   ]
  },
  {
   "cell_type": "code",
   "execution_count": 16,
   "id": "be4ee2de-c4dd-483c-adc0-02a17afe9c22",
   "metadata": {},
   "outputs": [],
   "source": [
    "result.compute().to_csv(\"./data/ml3/Round3_100.csv\", index=False)"
   ]
  },
  {
   "cell_type": "code",
   "execution_count": 10,
   "id": "111bdf9e-0fe9-498e-a00a-73c35dafbc90",
   "metadata": {},
   "outputs": [],
   "source": [
    "new_df.to_csv(\"./data/ml4/Round1_T2D_100.csv\")"
   ]
  },
  {
   "cell_type": "code",
   "execution_count": 33,
   "id": "abb980ff-4c87-47cc-8167-9cf1a063d6d4",
   "metadata": {},
   "outputs": [
    {
     "data": {
      "text/html": [
       "<div><strong>Dask DataFrame Structure:</strong></div>\n",
       "<div>\n",
       "<style scoped>\n",
       "    .dataframe tbody tr th:only-of-type {\n",
       "        vertical-align: middle;\n",
       "    }\n",
       "\n",
       "    .dataframe tbody tr th {\n",
       "        vertical-align: top;\n",
       "    }\n",
       "\n",
       "    .dataframe thead th {\n",
       "        text-align: right;\n",
       "    }\n",
       "</style>\n",
       "<table border=\"1\" class=\"dataframe\">\n",
       "  <thead>\n",
       "    <tr style=\"text-align: right;\">\n",
       "      <th></th>\n",
       "      <th>tableName</th>\n",
       "      <th>ed</th>\n",
       "      <th>jaccard</th>\n",
       "      <th>jaccardNgram</th>\n",
       "      <th>p_subj_ne</th>\n",
       "      <th>p_subj_lit</th>\n",
       "      <th>p_obj_ne</th>\n",
       "      <th>desc</th>\n",
       "      <th>descNgram</th>\n",
       "      <th>target</th>\n",
       "    </tr>\n",
       "    <tr>\n",
       "      <th>npartitions=1</th>\n",
       "      <th></th>\n",
       "      <th></th>\n",
       "      <th></th>\n",
       "      <th></th>\n",
       "      <th></th>\n",
       "      <th></th>\n",
       "      <th></th>\n",
       "      <th></th>\n",
       "      <th></th>\n",
       "      <th></th>\n",
       "    </tr>\n",
       "  </thead>\n",
       "  <tbody>\n",
       "    <tr>\n",
       "      <th></th>\n",
       "      <td>object</td>\n",
       "      <td>object</td>\n",
       "      <td>object</td>\n",
       "      <td>object</td>\n",
       "      <td>object</td>\n",
       "      <td>object</td>\n",
       "      <td>object</td>\n",
       "      <td>object</td>\n",
       "      <td>object</td>\n",
       "      <td>object</td>\n",
       "    </tr>\n",
       "    <tr>\n",
       "      <th></th>\n",
       "      <td>...</td>\n",
       "      <td>...</td>\n",
       "      <td>...</td>\n",
       "      <td>...</td>\n",
       "      <td>...</td>\n",
       "      <td>...</td>\n",
       "      <td>...</td>\n",
       "      <td>...</td>\n",
       "      <td>...</td>\n",
       "      <td>...</td>\n",
       "    </tr>\n",
       "  </tbody>\n",
       "</table>\n",
       "</div>\n",
       "<div>Dask Name: lambda, 2 tasks</div>"
      ],
      "text/plain": [
       "Dask DataFrame Structure:\n",
       "              tableName      ed jaccard jaccardNgram p_subj_ne p_subj_lit p_obj_ne    desc descNgram  target\n",
       "npartitions=1                                                                                               \n",
       "                 object  object  object       object    object     object   object  object    object  object\n",
       "                    ...     ...     ...          ...       ...        ...      ...     ...       ...     ...\n",
       "Dask Name: lambda, 2 tasks"
      ]
     },
     "execution_count": 33,
     "metadata": {},
     "output_type": "execute_result"
    }
   ],
   "source": [
    "result"
   ]
  },
  {
   "cell_type": "code",
   "execution_count": 31,
   "id": "664e0ef0-9917-4fb4-864c-1b7695e46bd9",
   "metadata": {},
   "outputs": [
    {
     "name": "stdout",
     "output_type": "stream",
     "text": [
      "<class 'str'>\n",
      "<class 'str'>\n",
      "<class 'str'>\n",
      "<class 'str'>\n",
      "<class 'str'>\n",
      "<class 'str'>\n",
      "<class 'str'>\n",
      "<class 'str'>\n",
      "<class 'str'>\n",
      "<class 'str'>\n"
     ]
    }
   ],
   "source": [
    "for item in result:\n",
    "    print(type(item))"
   ]
  },
  {
   "cell_type": "code",
   "execution_count": 3,
   "id": "180ab4b5-9e67-472c-9e14-163b3798f046",
   "metadata": {},
   "outputs": [
    {
     "name": "stderr",
     "output_type": "stream",
     "text": [
      "100%|██████████| 8078/8078 [00:00<00:00, 61576.24it/s]\n",
      "  4%|▍         | 359/9089 [00:04<01:48, 80.45it/s] \n"
     ]
    }
   ],
   "source": [
    "import os\n",
    "import json\n",
    "import requests\n",
    "import pandas as pd\n",
    "import utils.utils as utils\n",
    "from tqdm import tqdm\n",
    "from pymongo import MongoClient\n",
    "from process.wrapper import mongodb_conn\n",
    "import numpy as np\n",
    "import matplotlib.pyplot as plt\n",
    "\n",
    "dataset = {\n",
    "    \"Round1_T2D\": {\n",
    "        \"tables\": \"./data/Dataset/Round1_T2D/tables\",\n",
    "        \"cea\":\"./data/Dataset/Round1_T2D/gt/CEA_Round1_gt_WD.csv\",\n",
    "        \"cpa\":\"./data/Dataset/Round1_T2D/gt/CPA_Round1_gt.csv\",\n",
    "        \"cta\": \"./data/Dataset/Round1_T2D/gt/CTA_Round1_gt.csv\"\n",
    "    },\n",
    "    \"HardTableR2-2021\": {\n",
    "        \"tables\":\"./data/Dataset/HardTablesR2/tables/\", \n",
    "        \"cea\":\"./data/Dataset/HardTablesR2/gt/cea.csv\",\n",
    "        \"cpa\":\"./data/Dataset/HardTablesR2/gt/cpa.csv\",\n",
    "        \"cta\": \"./data/Dataset/HardTablesR2/gt/cta.csv\"\n",
    "    },\n",
    "    \"HardTableR3-2021\": {\n",
    "        \"tables\":\"./data/Dataset/HardTablesR3/tables/\", \n",
    "        \"cea\":\"./data/Dataset/HardTablesR3/gt/cea.csv\",\n",
    "        \"cpa\":\"./data/Dataset/HardTablesR3/gt/cpa.csv\",\n",
    "        \"cta\": \"./data/Dataset/HardTablesR3/gt/cta.csv\"\n",
    "    },\n",
    "    \"Round3\": {\n",
    "        \"tables\": \"./data/Dataset/Round3_2019/tables/\",\n",
    "        \"cea\":\"./data/Dataset/Round3_2019/gt/CEA_Round3_gt_WD.csv\",\n",
    "        \"cpa\":\"./data/Dataset/Round3_2019/gt/CPA_Round3_gt.csv\",\n",
    "        \"cta\": \"./data/Dataset/Round3_2019/gt/CTA_Round3_gt.csv\"\n",
    "    },\n",
    "    \"2T-2020\": {\n",
    "        \"tables\":\"./data/Dataset/2T_Round4/tables/\", \n",
    "        \"cea\":\"./data/Dataset/2T_Round4/gt/cea.csv\",\n",
    "        \"cpa\": None,\n",
    "        \"cta\": \"./data/Dataset/2T_Round4/gt/cta.csv\"\n",
    "    },\n",
    "    \"Round4\": {\n",
    "        \"tables\": \"./data/Dataset/Round4_2020/tables/\",\n",
    "        \"cea\":\"./data/Dataset/Round4_2020/gt/cea.csv\",\n",
    "        \"cpa\":\"./data/Dataset/Round4_2020/gt/cpa.csv\",\n",
    "        \"cta\": \"./data/Dataset/Round4_2020/gt/cta.csv\"\n",
    "    }\n",
    "}\n",
    "\n",
    "\n",
    "def get_samples(candidates, cea_gt, table_name, key):\n",
    "    positive_sample = []\n",
    "    negative_sample = []\n",
    "    found_in_gt = False\n",
    "    n_sample = 0\n",
    "    for candidate in candidates:\n",
    "        candidate = candidate[1]\n",
    "        features = {feature:candidate[\"features\"][feature] for feature in candidate[\"features\"]}\n",
    "        del features[\"popularity\"]\n",
    "        del features[\"cta\"]\n",
    "        del features[\"ctaMax\"]\n",
    "        del features[\"cpa\"]\n",
    "        del features[\"cpaMax\"]\n",
    "        if candidate[\"id\"].lower() in cea_gt:\n",
    "            sample = dict(**{\"tableName\": table_name, \"key\": key}, **features, **{\"target\": 1})\n",
    "            found_in_gt = True\n",
    "            positive_sample.append(sample)\n",
    "            if n_sample == 2:\n",
    "                break\n",
    "        elif n_sample < 2:\n",
    "            sample = dict(**{\"tableName\": table_name, \"key\": key}, **features, **{\"target\": 0})\n",
    "            n_sample += 1\n",
    "            negative_sample.append(sample)\n",
    "    samples = positive_sample + negative_sample        \n",
    "    return found_in_gt, samples      \n",
    "\n",
    "\n",
    "cea_c = mongodb_conn.get_collection(\"candidateScored\")\n",
    "total_wrong = 0\n",
    "BUFFER_SIZE = 1000\n",
    "for id_dataset in dataset:\n",
    "    tables_path, cea_target_path, cpa_target_path, cta_target_path = list(dataset[id_dataset].values())\n",
    "    cea_gt = utils.get_cea_ann(cea_target_path)\n",
    "    name = f\"{id_dataset}_100\"\n",
    "    buffer = []\n",
    "    results = cea_c.find({\"idDataset\": name})\n",
    "    total = cea_c.count_documents({\"idDataset\": name})\n",
    "    for result in tqdm(results, total=total):\n",
    "        id_table = result[\"tableName\"]\n",
    "        id_row = result[\"row\"]\n",
    "        for id_col, item in enumerate(result[\"candidates\"]):\n",
    "            key = f\"{id_table} {id_row} {id_col}\"\n",
    "            if key not in cea_gt or cea_gt.get(key) is None:\n",
    "                continue\n",
    "            temp = item\n",
    "            if len(temp) > 0:\n",
    "                found_in_gt, samples = get_samples(temp,  cea_gt.get(key, []), id_table, key)\n",
    "                if found_in_gt:\n",
    "                    buffer += samples\n",
    "        \n",
    "        if len(buffer) >= BUFFER_SIZE:\n",
    "            break\n",
    "    break"
   ]
  },
  {
   "cell_type": "code",
   "execution_count": 4,
   "id": "3424e937-1cfc-4a48-83e7-efc0d16a3fab",
   "metadata": {},
   "outputs": [
    {
     "data": {
      "text/plain": [
       "[{'tableName': '35188621_0_6058553107571275232',\n",
       "  'key': '35188621_0_6058553107571275232 1 1',\n",
       "  'ed': 0.632,\n",
       "  'jaccard': 0.667,\n",
       "  'jaccardNgram': 0.667,\n",
       "  'p_subj_ne': 0.615,\n",
       "  'p_subj_lit': 0.307,\n",
       "  'p_obj_ne': 0,\n",
       "  'desc': 0.333,\n",
       "  'descNgram': 0.433,\n",
       "  'target': 1},\n",
       " {'tableName': '35188621_0_6058553107571275232',\n",
       "  'key': '35188621_0_6058553107571275232 1 1',\n",
       "  'ed': 0.577,\n",
       "  'jaccard': 0.5,\n",
       "  'jaccardNgram': 0.5,\n",
       "  'p_subj_ne': 0,\n",
       "  'p_subj_lit': 0.784,\n",
       "  'p_obj_ne': 0,\n",
       "  'desc': 0.0,\n",
       "  'descNgram': 0.0,\n",
       "  'target': 0},\n",
       " {'tableName': '35188621_0_6058553107571275232',\n",
       "  'key': '35188621_0_6058553107571275232 1 1',\n",
       "  'ed': 0.526,\n",
       "  'jaccard': 0.333,\n",
       "  'jaccardNgram': 0.333,\n",
       "  'p_subj_ne': 0,\n",
       "  'p_subj_lit': 0.463,\n",
       "  'p_obj_ne': 0,\n",
       "  'desc': 0.0,\n",
       "  'descNgram': 0.0,\n",
       "  'target': 0},\n",
       " {'tableName': '35188621_0_6058553107571275232',\n",
       "  'key': '35188621_0_6058553107571275232 2 1',\n",
       "  'ed': 0.545,\n",
       "  'jaccard': 0.333,\n",
       "  'jaccardNgram': 0.333,\n",
       "  'p_subj_ne': 0.684,\n",
       "  'p_subj_lit': 0.288,\n",
       "  'p_obj_ne': 0,\n",
       "  'desc': 0.143,\n",
       "  'descNgram': 0.143,\n",
       "  'target': 1},\n",
       " {'tableName': '35188621_0_6058553107571275232',\n",
       "  'key': '35188621_0_6058553107571275232 2 1',\n",
       "  'ed': 0.615,\n",
       "  'jaccard': 0.5,\n",
       "  'jaccardNgram': 0.5,\n",
       "  'p_subj_ne': 0,\n",
       "  'p_subj_lit': 0.838,\n",
       "  'p_obj_ne': 0,\n",
       "  'desc': 0.0,\n",
       "  'descNgram': 0.034,\n",
       "  'target': 0},\n",
       " {'tableName': '35188621_0_6058553107571275232',\n",
       "  'key': '35188621_0_6058553107571275232 2 1',\n",
       "  'ed': 0.611,\n",
       "  'jaccard': 0.333,\n",
       "  'jaccardNgram': 0.333,\n",
       "  'p_subj_ne': 0,\n",
       "  'p_subj_lit': 0.481,\n",
       "  'p_obj_ne': 0,\n",
       "  'desc': 0.0,\n",
       "  'descNgram': 0.0,\n",
       "  'target': 0},\n",
       " {'tableName': '35188621_0_6058553107571275232',\n",
       "  'key': '35188621_0_6058553107571275232 3 1',\n",
       "  'ed': 0.381,\n",
       "  'jaccard': 0.333,\n",
       "  'jaccardNgram': 0.333,\n",
       "  'p_subj_ne': 0.538,\n",
       "  'p_subj_lit': 1.029,\n",
       "  'p_obj_ne': 0,\n",
       "  'desc': 0.444,\n",
       "  'descNgram': 0.364,\n",
       "  'target': 1},\n",
       " {'tableName': '35188621_0_6058553107571275232',\n",
       "  'key': '35188621_0_6058553107571275232 3 1',\n",
       "  'ed': 1.0,\n",
       "  'jaccard': 1.0,\n",
       "  'jaccardNgram': 1.0,\n",
       "  'p_subj_ne': 0,\n",
       "  'p_subj_lit': 0.799,\n",
       "  'p_obj_ne': 0,\n",
       "  'desc': 0.0,\n",
       "  'descNgram': 0.0,\n",
       "  'target': 0},\n",
       " {'tableName': '35188621_0_6058553107571275232',\n",
       "  'key': '35188621_0_6058553107571275232 3 1',\n",
       "  'ed': 0.667,\n",
       "  'jaccard': 0.5,\n",
       "  'jaccardNgram': 0.5,\n",
       "  'p_subj_ne': 0,\n",
       "  'p_subj_lit': 1.031,\n",
       "  'p_obj_ne': 0,\n",
       "  'desc': 0.0,\n",
       "  'descNgram': 0.0,\n",
       "  'target': 0},\n",
       " {'tableName': '35188621_0_6058553107571275232',\n",
       "  'key': '35188621_0_6058553107571275232 4 1',\n",
       "  'ed': 0.571,\n",
       "  'jaccard': 0.667,\n",
       "  'jaccardNgram': 0.667,\n",
       "  'p_subj_ne': 0.833,\n",
       "  'p_subj_lit': 0.451,\n",
       "  'p_obj_ne': 0,\n",
       "  'desc': 0.333,\n",
       "  'descNgram': 0.3,\n",
       "  'target': 1}]"
      ]
     },
     "execution_count": 4,
     "metadata": {},
     "output_type": "execute_result"
    }
   ],
   "source": [
    "buffer[0:10]"
   ]
  },
  {
   "cell_type": "code",
   "execution_count": null,
   "id": "6801fb01-8268-4b3f-9b8b-6ea79c064423",
   "metadata": {},
   "outputs": [],
   "source": []
  }
 ],
 "metadata": {
  "kernelspec": {
   "display_name": "Python 3 (ipykernel)",
   "language": "python",
   "name": "python3"
  },
  "language_info": {
   "codemirror_mode": {
    "name": "ipython",
    "version": 3
   },
   "file_extension": ".py",
   "mimetype": "text/x-python",
   "name": "python",
   "nbconvert_exporter": "python",
   "pygments_lexer": "ipython3",
   "version": "3.10.9"
  }
 },
 "nbformat": 4,
 "nbformat_minor": 5
}
