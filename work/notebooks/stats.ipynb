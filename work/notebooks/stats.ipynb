{
 "cells": [
  {
   "cell_type": "code",
   "execution_count": 5,
   "id": "0ea4580f-4f2d-43f5-93cf-a6e603de304d",
   "metadata": {
    "tags": []
   },
   "outputs": [],
   "source": [
    "import pandas as pd\n",
    "import os\n",
    "from tqdm import tqdm\n",
    "import json\n",
    "import utils.utils as utils\n",
    "\n",
    "dataset = {\n",
    "    \"Round1_T2D\": {\n",
    "        \"tables\": \"./data/Dataset/Round1_T2D/tables\",\n",
    "        \"cea\":\"./data/Dataset/Round1_T2D/gt/CEA_Round1_gt_WD.csv\",\n",
    "        \"cpa\":\"./data/Dataset/Round1_T2D/gt/CPA_Round1_gt.csv\",\n",
    "        \"cta\": \"./data/Dataset/Round1_T2D/gt/CTA_Round1_gt.csv\"\n",
    "    },\n",
    "    \"Round3\": {\n",
    "        \"tables\": \"./data/Dataset/Round3_2019/tables/\",\n",
    "        \"cea\":\"./data/Dataset/Round3_2019/gt/CEA_Round3_gt_WD.csv\",\n",
    "        \"cpa\":\"./data/Dataset/Round3_2019/gt/CPA_Round3_gt.csv\",\n",
    "        \"cta\": \"./data/Dataset/Round3_2019/gt/CTA_Round3_gt.csv\"\n",
    "    },\n",
    "    \"Round4\": {\n",
    "        \"tables\": \"./data/Dataset/Round4_2020/tables/\",\n",
    "        \"cea\":\"./data/Dataset/Round4_2020/gt/cea.csv\",\n",
    "        \"cpa\":\"./data/Dataset/Round4_2020/gt/cpa.csv\",\n",
    "        \"cta\": \"./data/Dataset/Round4_2020/gt/cta.csv\"\n",
    "    },\n",
    "    \"2T-2020\": {\n",
    "        \"tables\":\"./data/Dataset/2T_Round4/tables/\", \n",
    "        \"cea\":\"./data/Dataset/2T_Round4/gt/cea.csv\",\n",
    "        \"cpa\": None,\n",
    "        \"cta\": \"./data/Dataset/2T_Round4/gt/cta.csv\"\n",
    "    },\n",
    "    \"HardTableR2-2021\": {\n",
    "        \"tables\":\"./data/Dataset/HardTablesR2/tables/\", \n",
    "        \"cea\":\"./data/Dataset/HardTablesR2/gt/cea.csv\",\n",
    "        \"cpa\":\"./data/Dataset/HardTablesR2/gt/cpa.csv\",\n",
    "        \"cta\": \"./data/Dataset/HardTablesR2/gt/cta.csv\"\n",
    "    },\n",
    "    \"HardTableR3-2021\": {\n",
    "        \"tables\":\"./data/Dataset/HardTablesR3/tables/\", \n",
    "        \"cea\":\"./data/Dataset/HardTablesR3/gt/cea.csv\",\n",
    "        \"cpa\":\"./data/Dataset/HardTablesR3/gt/cpa.csv\",\n",
    "        \"cta\": \"./data/Dataset/HardTablesR3/gt/cta.csv\"\n",
    "    },\n",
    "    \"mammotab\": {\n",
    "        \"tables\":\"./data/Dataset/mammotab-sample/tables/\", \n",
    "        \"cea\":\"./data/Dataset/mammotab-sample/gt/cea.csv\",\n",
    "        \"cpa\":None,\n",
    "        \"cta\": \"./data/Dataset/mammotab-sample/gt/cta.csv\"\n",
    "    }\n",
    "}\n",
    "\n",
    "id_dataset = \"2T-2020\"\n",
    "tables_path, cea_target_path, cpa_target_path, cta_target_path = list(dataset[id_dataset].values())"
   ]
  },
  {
   "cell_type": "code",
   "execution_count": 6,
   "id": "44287acb-ca3b-4939-94be-1ad1b0c0e0bb",
   "metadata": {},
   "outputs": [
    {
     "data": {
      "text/plain": [
       "1"
      ]
     },
     "execution_count": 6,
     "metadata": {},
     "output_type": "execute_result"
    }
   ],
   "source": [
    "import math\n",
    "math.ceil(2/25)"
   ]
  },
  {
   "cell_type": "code",
   "execution_count": 29,
   "id": "62192fd3-9d12-4f6f-8450-bc333d19cc65",
   "metadata": {},
   "outputs": [],
   "source": [
    "file = pd.read_csv(\"./data/2T-2020/tables/0D70DN48.csv\")\n",
    "tables = [{\"datasetName\": \"2T\", \"tableName\": \"0D70DN48\", \"rows\":[]}]\n",
    "for id_row, row in enumerate(file.values.tolist()):\n",
    "    tables[0][\"rows\"].append({\"idRow\": id_row+1, \"data\": row})\n",
    "tables[0][\"rows\"] = tables[0][\"rows\"][:49]     "
   ]
  },
  {
   "cell_type": "code",
   "execution_count": null,
   "id": "1df4d375-16f0-4658-969e-9f886896d6fe",
   "metadata": {},
   "outputs": [],
   "source": [
    "math.floor(len(tables[0][\"rows\"])/25)"
   ]
  },
  {
   "cell_type": "code",
   "execution_count": 30,
   "id": "f9fdf281-c2f1-4931-bb14-c1cf11b09e1a",
   "metadata": {},
   "outputs": [
    {
     "data": {
      "text/plain": [
       "49"
      ]
     },
     "execution_count": 30,
     "metadata": {},
     "output_type": "execute_result"
    }
   ],
   "source": [
    "import numpy as np\n",
    "\n",
    "out = np.array_split(tables[0][\"rows\"], math.floor(len(tables[0][\"rows\"])/25))\n",
    "len(out[0])"
   ]
  },
  {
   "cell_type": "code",
   "execution_count": 2,
   "id": "e83e24e0-c7f6-405c-968b-06cbb606b22f",
   "metadata": {
    "tags": []
   },
   "outputs": [
    {
     "name": "stderr",
     "output_type": "stream",
     "text": [
      "100%|██████████| 64/64 [00:00<00:00, 363.79it/s]\n",
      "100%|██████████| 2162/2162 [00:04<00:00, 472.35it/s]\n",
      "100%|██████████| 22207/22207 [00:55<00:00, 399.66it/s]\n",
      "100%|██████████| 181/181 [00:00<00:00, 225.34it/s]\n",
      "100%|██████████| 3501/3501 [00:03<00:00, 1074.91it/s]\n",
      "100%|██████████| 14414/14414 [00:12<00:00, 1178.68it/s]\n",
      "100%|██████████| 13201/13201 [00:26<00:00, 506.49it/s]\n"
     ]
    }
   ],
   "source": [
    "buffer = []\n",
    "for id_dataset in dataset:\n",
    "    tables_path, cea_target_path, cpa_target_path, cta_target_path = list(dataset[id_dataset].values())\n",
    "    temp = utils.get_stats_on_dataset(cea_target_path, cpa_target_path, cta_target_path, tables_path)\n",
    "    buffer.append(dict({\"dataset\":id_dataset},**temp))"
   ]
  },
  {
   "cell_type": "code",
   "execution_count": 3,
   "id": "d41b756c-d94c-4d40-b541-83fb59ec8228",
   "metadata": {
    "tags": []
   },
   "outputs": [
    {
     "data": {
      "text/html": [
       "<div>\n",
       "<style scoped>\n",
       "    .dataframe tbody tr th:only-of-type {\n",
       "        vertical-align: middle;\n",
       "    }\n",
       "\n",
       "    .dataframe tbody tr th {\n",
       "        vertical-align: top;\n",
       "    }\n",
       "\n",
       "    .dataframe thead th {\n",
       "        text-align: right;\n",
       "    }\n",
       "</style>\n",
       "<table border=\"1\" class=\"dataframe\">\n",
       "  <thead>\n",
       "    <tr style=\"text-align: right;\">\n",
       "      <th></th>\n",
       "      <th>dataset</th>\n",
       "      <th>tables</th>\n",
       "      <th>columns</th>\n",
       "      <th>avg_columns</th>\n",
       "      <th>rows</th>\n",
       "      <th>avg_rows</th>\n",
       "      <th>classes</th>\n",
       "      <th>entities</th>\n",
       "      <th>predicates</th>\n",
       "    </tr>\n",
       "  </thead>\n",
       "  <tbody>\n",
       "    <tr>\n",
       "      <th>0</th>\n",
       "      <td>Round1_T2D</td>\n",
       "      <td>64</td>\n",
       "      <td>323</td>\n",
       "      <td>5.05</td>\n",
       "      <td>9089</td>\n",
       "      <td>142.02</td>\n",
       "      <td>119</td>\n",
       "      <td>8078</td>\n",
       "      <td>115</td>\n",
       "    </tr>\n",
       "    <tr>\n",
       "      <th>1</th>\n",
       "      <td>Round3</td>\n",
       "      <td>2161</td>\n",
       "      <td>9736</td>\n",
       "      <td>4.51</td>\n",
       "      <td>152753</td>\n",
       "      <td>70.69</td>\n",
       "      <td>5761</td>\n",
       "      <td>390456</td>\n",
       "      <td>7574</td>\n",
       "    </tr>\n",
       "    <tr>\n",
       "      <th>2</th>\n",
       "      <td>Round4</td>\n",
       "      <td>22207</td>\n",
       "      <td>78750</td>\n",
       "      <td>3.55</td>\n",
       "      <td>475897</td>\n",
       "      <td>21.43</td>\n",
       "      <td>31921</td>\n",
       "      <td>994920</td>\n",
       "      <td>56475</td>\n",
       "    </tr>\n",
       "    <tr>\n",
       "      <th>3</th>\n",
       "      <td>2T-2020</td>\n",
       "      <td>180</td>\n",
       "      <td>802</td>\n",
       "      <td>4.46</td>\n",
       "      <td>194438</td>\n",
       "      <td>1080.21</td>\n",
       "      <td>539</td>\n",
       "      <td>667243</td>\n",
       "      <td>0</td>\n",
       "    </tr>\n",
       "    <tr>\n",
       "      <th>4</th>\n",
       "      <td>HardTableR2-2021</td>\n",
       "      <td>1750</td>\n",
       "      <td>5589</td>\n",
       "      <td>3.19</td>\n",
       "      <td>29280</td>\n",
       "      <td>16.73</td>\n",
       "      <td>2190</td>\n",
       "      <td>47439</td>\n",
       "      <td>3835</td>\n",
       "    </tr>\n",
       "    <tr>\n",
       "      <th>5</th>\n",
       "      <td>HardTableR3-2021</td>\n",
       "      <td>7207</td>\n",
       "      <td>17902</td>\n",
       "      <td>2.48</td>\n",
       "      <td>58949</td>\n",
       "      <td>8.18</td>\n",
       "      <td>7206</td>\n",
       "      <td>58948</td>\n",
       "      <td>10694</td>\n",
       "    </tr>\n",
       "    <tr>\n",
       "      <th>6</th>\n",
       "      <td>mammotab</td>\n",
       "      <td>13201</td>\n",
       "      <td>82499</td>\n",
       "      <td>6.25</td>\n",
       "      <td>283263</td>\n",
       "      <td>21.46</td>\n",
       "      <td>25169</td>\n",
       "      <td>279104</td>\n",
       "      <td>0</td>\n",
       "    </tr>\n",
       "  </tbody>\n",
       "</table>\n",
       "</div>"
      ],
      "text/plain": [
       "            dataset  tables  columns  avg_columns    rows  avg_rows  classes  \\\n",
       "0        Round1_T2D      64      323         5.05    9089    142.02      119   \n",
       "1            Round3    2161     9736         4.51  152753     70.69     5761   \n",
       "2            Round4   22207    78750         3.55  475897     21.43    31921   \n",
       "3           2T-2020     180      802         4.46  194438   1080.21      539   \n",
       "4  HardTableR2-2021    1750     5589         3.19   29280     16.73     2190   \n",
       "5  HardTableR3-2021    7207    17902         2.48   58949      8.18     7206   \n",
       "6          mammotab   13201    82499         6.25  283263     21.46    25169   \n",
       "\n",
       "   entities  predicates  \n",
       "0      8078         115  \n",
       "1    390456        7574  \n",
       "2    994920       56475  \n",
       "3    667243           0  \n",
       "4     47439        3835  \n",
       "5     58948       10694  \n",
       "6    279104           0  "
      ]
     },
     "execution_count": 3,
     "metadata": {},
     "output_type": "execute_result"
    }
   ],
   "source": [
    "pd.DataFrame(buffer)"
   ]
  },
  {
   "cell_type": "code",
   "execution_count": 13,
   "id": "2db97554-f68e-488e-93e9-fbe483f8b823",
   "metadata": {},
   "outputs": [
    {
     "name": "stderr",
     "output_type": "stream",
     "text": [
      "100%|██████████| 14414/14414 [00:06<00:00, 2273.56it/s]\n"
     ]
    },
    {
     "data": {
      "text/plain": [
       "{'tables': 7207,\n",
       " 'columns': 17902,\n",
       " 'rows': 58949,\n",
       " 'classes': 7206,\n",
       " 'entities': 58948,\n",
       " 'predicates': 10694}"
      ]
     },
     "execution_count": 13,
     "metadata": {},
     "output_type": "execute_result"
    }
   ],
   "source": [
    "utils.get_stats_on_dataset(cea_target_path, cpa_target_path, cta_target_path, tables_path)\n",
    "# tables, columns, rows, classes, entities, predicates, kg"
   ]
  },
  {
   "cell_type": "code",
   "execution_count": 7,
   "id": "60db6fe4-161d-4e13-ab48-8572a20d3123",
   "metadata": {},
   "outputs": [
    {
     "name": "stderr",
     "output_type": "stream",
     "text": [
      "  0%|          | 0/22387 [00:00<?, ?it/s]\n"
     ]
    },
    {
     "data": {
      "text/plain": [
       "(1662164, 56475, 32461)"
      ]
     },
     "execution_count": 7,
     "metadata": {},
     "output_type": "execute_result"
    }
   ],
   "source": [
    "total_rows, total_columns  = (0, 0)\n",
    "for table in tqdm(os.listdir(tables_path)):\n",
    "    if table.startswith(\".\"):\n",
    "        continue\n",
    "    data = pd.read_csv(f\"{tables_path}/{table}\")    \n",
    "    total_rows += len(data)\n",
    "    total_columns += len(data.columns)\n",
    "    break\n",
    "cea_target = pd.read_csv(cea_target_path) \n",
    "cpa_target = pd.read_csv(cpa_target_path) \n",
    "cta_target = pd.read_csv(cta_target_path) \n",
    "classes, entities, predicates = (len(cea_target), len(cpa_target), len(cta_target))\n",
    "classes, entities, predicates\n",
    "\n"
   ]
  },
  {
   "cell_type": "code",
   "execution_count": 6,
   "id": "3510f701-d32d-4fbe-93bf-c78c517ccb7f",
   "metadata": {
    "scrolled": true,
    "tags": []
   },
   "outputs": [
    {
     "name": "stderr",
     "output_type": "stream",
     "text": [
      "100%|██████████| 15000/15000 [01:02<00:00, 238.88it/s]\n"
     ]
    }
   ],
   "source": [
    "import pandas as pd\n",
    "import os\n",
    "from tqdm import tqdm\n",
    "import json\n",
    "import utils.utils as utils\n",
    "import random\n",
    "\n",
    "tables_path = \"./data/mammotab_20220815/tables/\" # put here the path of tables dataset\n",
    "cea_target_path = './data/mammotab_20220815/gt/cea_gt.csv'\n",
    "cta_target_path = './data/mammotab_20220815/gt/cta_gt.csv'\n",
    "id_dataset = \"mammotab\" # put here the dataset name your to gav\n",
    "\n",
    "tables = os.listdir(tables_path)\n",
    "\n",
    "\n",
    "random.shuffle(tables)\n",
    "stats = []\n",
    "for table in tqdm(tables[0:15000]):\n",
    "    data = pd.read_csv(f\"{tables_path}/{table}\")\n",
    "    stats.append({\"table\":table, \"rows\":len(data), \"none\": data.apply(lambda x: (x==\"None\").sum(), axis='columns').sum()})"
   ]
  },
  {
   "cell_type": "code",
   "execution_count": 2,
   "id": "88c76597-ee18-4b87-a36a-cf8dcedb225d",
   "metadata": {
    "tags": []
   },
   "outputs": [
    {
     "name": "stdout",
     "output_type": "stream",
     "text": [
      "Collecting wikimapper\n",
      "  Downloading wikimapper-0.1.17.tar.gz (18 kB)\n",
      "  Preparing metadata (setup.py) ... \u001b[?25ldone\n",
      "\u001b[?25hBuilding wheels for collected packages: wikimapper\n",
      "  Building wheel for wikimapper (setup.py) ... \u001b[?25ldone\n",
      "\u001b[?25h  Created wheel for wikimapper: filename=wikimapper-0.1.17-py3-none-any.whl size=15556 sha256=23ee84a81303407539d0b0804e5e1ccf9b97a3c07d869cd65ae7c9ecfa60ad85\n",
      "  Stored in directory: /home/jovyan/.cache/pip/wheels/8c/14/ff/8a9c4503d1a05fb54f75c3f357aa7e63ed44e686625a97c1e1\n",
      "Successfully built wikimapper\n",
      "Installing collected packages: wikimapper\n",
      "Successfully installed wikimapper-0.1.17\n",
      "Note: you may need to restart the kernel to use updated packages.\n"
     ]
    }
   ],
   "source": [
    "pip install wikimapper"
   ]
  },
  {
   "cell_type": "code",
   "execution_count": 52,
   "id": "6ba6fa1a-02af-4e71-b56c-2761b3312a32",
   "metadata": {
    "tags": []
   },
   "outputs": [
    {
     "name": "stdout",
     "output_type": "stream",
     "text": [
      "None\n"
     ]
    }
   ],
   "source": [
    "from wikimapper import WikiMapper\n",
    "import pandas as pd\n",
    "\n",
    "mapper = WikiMapper(\"data/index_enwiki-20190420.db\")\n",
    "wikidata_id = mapper.title_to_id(\"Be_First_(Regeneration)_Limited\")\n",
    "print(wikidata_id) # Q28865"
   ]
  },
  {
   "cell_type": "code",
   "execution_count": 55,
   "id": "4892a97e-1b78-47a9-8534-e03ab7242175",
   "metadata": {
    "tags": []
   },
   "outputs": [
    {
     "name": "stdout",
     "output_type": "stream",
     "text": [
      "https://en.wikipedia.org/wiki/Allerdale_Borough_Council Allerdale_Borough_Council\n",
      "https://en.wikipedia.org/wiki/Be_First_(Regeneration)_Limited Be_First_(Regeneration)_Limited\n",
      "https://en.wikipedia.org/wiki/Cleeve_School Cleeve_School\n",
      "https://en.wikipedia.org/wiki/Construction_Procurement_Delivery Construction_Procurement_Delivery\n",
      "https://en.wikipedia.org/wiki/Nobel_House Nobel_House\n",
      "https://en.wikipedia.org/wiki/Driver_and_Vehicle_Licensing_Agency Driver_and_Vehicle_Licensing_Agency\n",
      "No Wikipedia page found No Wikipedia page found\n",
      "https://en.wikipedia.org/wiki/Southend-on-Sea Southend-on-Sea\n",
      "https://en.wikipedia.org/wiki/Southport_and_Ormskirk_Hospital_NHS_Trust Southport_and_Ormskirk_Hospital_NHS_Trust\n",
      "https://en.wikipedia.org/wiki/Thirteen_Group_of_Housing_Associations Thirteen_Group_of_Housing_Associations\n",
      "https://en.wikipedia.org/wiki/Tyne_and_Wear_Fire_and_Rescue_Service Tyne_and_Wear_Fire_and_Rescue_Service\n",
      "https://en.wikipedia.org/wiki/Manchester_Outer_Ring_Road Manchester_Outer_Ring_Road\n",
      "https://en.wikipedia.org/wiki/North_of_England_Commissioning_Support_Unit North_of_England_Commissioning_Support_Unit\n",
      "https://en.wikipedia.org/wiki/Nuneaton_%26_Bedworth Nuneaton_%26_Bedworth\n"
     ]
    }
   ],
   "source": [
    "df = pd.read_csv(\"data/temp.csv\")\n",
    "for i, row in df.iterrows():\n",
    "    print(row[\"Wikipedia URL\"], row[\"Wikipedia URL\"].split(\"/\")[-1])\n",
    "    df.at[i, \"Wikipedia URL\"] = row[\"Wikipedia URL\"].split(\"/\")[-1]\n",
    "    df.at[i, \"Wikidata\"] = mapper.title_to_id(row[\"Wikipedia URL\"].split(\"/\")[-1])"
   ]
  },
  {
   "cell_type": "code",
   "execution_count": 26,
   "id": "c19fcf1a-d157-4732-930a-0bc9998ac599",
   "metadata": {
    "tags": []
   },
   "outputs": [],
   "source": [
    "mapper.title_to_id(row[\"Wikipedia URL\"].split(\"/\")[-1])"
   ]
  },
  {
   "cell_type": "code",
   "execution_count": null,
   "id": "91a8933b-5e1c-4c23-ad05-7eccb630395f",
   "metadata": {},
   "outputs": [
    {
     "data": {
      "text/plain": [
       "'Nuneaton_%26_Bedworth'"
      ]
     },
     "execution_count": 28,
     "metadata": {},
     "output_type": "execute_result"
    }
   ],
   "source": [
    "row[\"Wikipedia URL\"].split(\"/\")[-1]"
   ]
  },
  {
   "cell_type": "code",
   "execution_count": 56,
   "id": "d5a12081-484d-4d24-ad89-46f3ec28f854",
   "metadata": {
    "tags": []
   },
   "outputs": [
    {
     "data": {
      "text/html": [
       "<div>\n",
       "<style scoped>\n",
       "    .dataframe tbody tr th:only-of-type {\n",
       "        vertical-align: middle;\n",
       "    }\n",
       "\n",
       "    .dataframe tbody tr th {\n",
       "        vertical-align: top;\n",
       "    }\n",
       "\n",
       "    .dataframe thead th {\n",
       "        text-align: right;\n",
       "    }\n",
       "</style>\n",
       "<table border=\"1\" class=\"dataframe\">\n",
       "  <thead>\n",
       "    <tr style=\"text-align: right;\">\n",
       "      <th></th>\n",
       "      <th>Entity Mentioned</th>\n",
       "      <th>Confidence Score</th>\n",
       "      <th>Wikipedia URL</th>\n",
       "      <th>Wikidata</th>\n",
       "    </tr>\n",
       "  </thead>\n",
       "  <tbody>\n",
       "    <tr>\n",
       "      <th>0</th>\n",
       "      <td>Allerdale Borough Council</td>\n",
       "      <td>0.534</td>\n",
       "      <td>Allerdale_Borough_Council</td>\n",
       "      <td>Q1532953</td>\n",
       "    </tr>\n",
       "    <tr>\n",
       "      <th>1</th>\n",
       "      <td>Be First</td>\n",
       "      <td>0.781</td>\n",
       "      <td>Be_First_(Regeneration)_Limited</td>\n",
       "      <td>None</td>\n",
       "    </tr>\n",
       "    <tr>\n",
       "      <th>2</th>\n",
       "      <td>Cleeve School and Sixth Form Centre of Excellence</td>\n",
       "      <td>0.809</td>\n",
       "      <td>Cleeve_School</td>\n",
       "      <td>Q5131066</td>\n",
       "    </tr>\n",
       "    <tr>\n",
       "      <th>3</th>\n",
       "      <td>Construction Procurement Delivery (CPD)</td>\n",
       "      <td>0.821</td>\n",
       "      <td>Construction_Procurement_Delivery</td>\n",
       "      <td>None</td>\n",
       "    </tr>\n",
       "    <tr>\n",
       "      <th>4</th>\n",
       "      <td>Nobel House</td>\n",
       "      <td>0.408</td>\n",
       "      <td>Nobel_House</td>\n",
       "      <td>None</td>\n",
       "    </tr>\n",
       "    <tr>\n",
       "      <th>5</th>\n",
       "      <td>DVLA</td>\n",
       "      <td>0.989</td>\n",
       "      <td>Driver_and_Vehicle_Licensing_Agency</td>\n",
       "      <td>Q5308010</td>\n",
       "    </tr>\n",
       "    <tr>\n",
       "      <th>6</th>\n",
       "      <td>P &amp; L Properties</td>\n",
       "      <td>0.205</td>\n",
       "      <td>No Wikipedia page found</td>\n",
       "      <td>None</td>\n",
       "    </tr>\n",
       "    <tr>\n",
       "      <th>7</th>\n",
       "      <td>Britannia Business Park</td>\n",
       "      <td>0.439</td>\n",
       "      <td>Southend-on-Sea</td>\n",
       "      <td>Q203995</td>\n",
       "    </tr>\n",
       "    <tr>\n",
       "      <th>8</th>\n",
       "      <td>Southport</td>\n",
       "      <td>0.244</td>\n",
       "      <td>Southport_and_Ormskirk_Hospital_NHS_Trust</td>\n",
       "      <td>Q17062119</td>\n",
       "    </tr>\n",
       "    <tr>\n",
       "      <th>9</th>\n",
       "      <td>Thirteen Housing</td>\n",
       "      <td>0.871</td>\n",
       "      <td>Thirteen_Group_of_Housing_Associations</td>\n",
       "      <td>None</td>\n",
       "    </tr>\n",
       "    <tr>\n",
       "      <th>10</th>\n",
       "      <td>Tyne and Wear Fire and Rescue</td>\n",
       "      <td>0.853</td>\n",
       "      <td>Tyne_and_Wear_Fire_and_Rescue_Service</td>\n",
       "      <td>Q7860504</td>\n",
       "    </tr>\n",
       "    <tr>\n",
       "      <th>11</th>\n",
       "      <td>Manchester Outer Ring Road</td>\n",
       "      <td>0.420</td>\n",
       "      <td>Manchester_Outer_Ring_Road</td>\n",
       "      <td>Q1629418</td>\n",
       "    </tr>\n",
       "    <tr>\n",
       "      <th>12</th>\n",
       "      <td>NECS, John Snow House</td>\n",
       "      <td>0.642</td>\n",
       "      <td>North_of_England_Commissioning_Support_Unit</td>\n",
       "      <td>None</td>\n",
       "    </tr>\n",
       "    <tr>\n",
       "      <th>13</th>\n",
       "      <td>Nuneaton</td>\n",
       "      <td>0.329</td>\n",
       "      <td>Nuneaton_%26_Bedworth</td>\n",
       "      <td>None</td>\n",
       "    </tr>\n",
       "  </tbody>\n",
       "</table>\n",
       "</div>"
      ],
      "text/plain": [
       "                                     Entity Mentioned  Confidence Score  \\\n",
       "0                           Allerdale Borough Council             0.534   \n",
       "1                                            Be First             0.781   \n",
       "2   Cleeve School and Sixth Form Centre of Excellence             0.809   \n",
       "3             Construction Procurement Delivery (CPD)             0.821   \n",
       "4                                         Nobel House             0.408   \n",
       "5                                                DVLA             0.989   \n",
       "6                                    P & L Properties             0.205   \n",
       "7                             Britannia Business Park             0.439   \n",
       "8                                           Southport             0.244   \n",
       "9                                    Thirteen Housing             0.871   \n",
       "10                      Tyne and Wear Fire and Rescue             0.853   \n",
       "11                         Manchester Outer Ring Road             0.420   \n",
       "12                              NECS, John Snow House             0.642   \n",
       "13                                           Nuneaton             0.329   \n",
       "\n",
       "                                  Wikipedia URL   Wikidata  \n",
       "0                     Allerdale_Borough_Council   Q1532953  \n",
       "1               Be_First_(Regeneration)_Limited       None  \n",
       "2                                 Cleeve_School   Q5131066  \n",
       "3             Construction_Procurement_Delivery       None  \n",
       "4                                   Nobel_House       None  \n",
       "5           Driver_and_Vehicle_Licensing_Agency   Q5308010  \n",
       "6                       No Wikipedia page found       None  \n",
       "7                               Southend-on-Sea    Q203995  \n",
       "8     Southport_and_Ormskirk_Hospital_NHS_Trust  Q17062119  \n",
       "9        Thirteen_Group_of_Housing_Associations       None  \n",
       "10        Tyne_and_Wear_Fire_and_Rescue_Service   Q7860504  \n",
       "11                   Manchester_Outer_Ring_Road   Q1629418  \n",
       "12  North_of_England_Commissioning_Support_Unit       None  \n",
       "13                        Nuneaton_%26_Bedworth       None  "
      ]
     },
     "execution_count": 56,
     "metadata": {},
     "output_type": "execute_result"
    }
   ],
   "source": [
    "df"
   ]
  },
  {
   "cell_type": "code",
   "execution_count": 57,
   "id": "102a1271-f378-4d16-87c3-16bab4ae6524",
   "metadata": {
    "tags": []
   },
   "outputs": [],
   "source": [
    "df.to_csv(\"data/table.csv\", index=False)"
   ]
  },
  {
   "cell_type": "code",
   "execution_count": null,
   "id": "4a5371fc-1236-476b-acb2-b4f460eb1204",
   "metadata": {},
   "outputs": [],
   "source": []
  }
 ],
 "metadata": {
  "kernelspec": {
   "display_name": "Python 3 (ipykernel)",
   "language": "python",
   "name": "python3"
  },
  "language_info": {
   "codemirror_mode": {
    "name": "ipython",
    "version": 3
   },
   "file_extension": ".py",
   "mimetype": "text/x-python",
   "name": "python",
   "nbconvert_exporter": "python",
   "pygments_lexer": "ipython3",
   "version": "3.10.9"
  }
 },
 "nbformat": 4,
 "nbformat_minor": 5
}
