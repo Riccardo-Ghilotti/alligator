{
 "cells": [
  {
   "cell_type": "code",
   "execution_count": 83,
   "id": "91313392-a59f-4683-a51b-67b9ef20e3d5",
   "metadata": {},
   "outputs": [
    {
     "name": "stdout",
     "output_type": "stream",
     "text": [
      "RF train accuracy: 0.996\n",
      "RF test accuracy: 0.991\n"
     ]
    }
   ],
   "source": [
    "import pandas as pd\n",
    "import numpy as np\n",
    "from sklearn.preprocessing import OrdinalEncoder\n",
    "from sklearn.model_selection import train_test_split\n",
    "from sklearn.ensemble import RandomForestClassifier\n",
    "\n",
    "df = pd.read_csv('2T-2020-100_ml.csv')\n",
    "df = df.dropna(subset=['target'])\n",
    "X = df.drop(\"target\", axis = 1)\n",
    "y = df['target']\n",
    "\n",
    "\n",
    "\n",
    "X_train, X_test, y_train, y_test = train_test_split(X, y, stratify=y, random_state=42)\n",
    "\n",
    "\n",
    "rf = RandomForestClassifier(\n",
    "         n_estimators=100,\n",
    "         n_jobs=-1,\n",
    "         min_samples_leaf = 1,\n",
    "         oob_score=True,\n",
    "         random_state = 42)\n",
    "rf.fit(X_train, y_train)\n",
    "\n",
    "print(f\"RF train accuracy: {rf.score(X_train, y_train):.3f}\")\n",
    "print(f\"RF test accuracy: {rf.score(X_test, y_test):.3f}\")"
   ]
  },
  {
   "cell_type": "code",
   "execution_count": 80,
   "id": "1da8ce42-5e3b-4943-995a-8bbb06b36e71",
   "metadata": {},
   "outputs": [
    {
     "name": "stdout",
     "output_type": "stream",
     "text": [
      "RF train accuracy: 0.992\n",
      "RF test accuracy: 0.983\n"
     ]
    }
   ],
   "source": [
    "import pandas as pd\n",
    "import numpy as np\n",
    "from sklearn.preprocessing import OrdinalEncoder\n",
    "from sklearn.model_selection import train_test_split\n",
    "from sklearn.ensemble import RandomForestClassifier\n",
    "\n",
    "df = pd.read_csv('HardTableR3-2021-100_ml.csv')\n",
    "df = df.dropna(subset=['target'])\n",
    "X = df.drop(\"target\", axis = 1)\n",
    "y = df['target']\n",
    "\n",
    "\n",
    "\n",
    "X_train, X_test, y_train, y_test = train_test_split(X, y, stratify=y, random_state=42)\n",
    "\n",
    "\n",
    "rf = RandomForestClassifier(\n",
    "         n_estimators=100,\n",
    "         n_jobs=-1,\n",
    "         min_samples_leaf = 1,\n",
    "         oob_score=True,\n",
    "         random_state = 42)\n",
    "rf.fit(X_train, y_train)\n",
    "\n",
    "print(f\"RF train accuracy: {rf.score(X_train, y_train):.3f}\")\n",
    "print(f\"RF test accuracy: {rf.score(X_test, y_test):.3f}\")"
   ]
  },
  {
   "cell_type": "code",
   "execution_count": 68,
   "id": "abfc30ef-8016-4b8d-8c1f-e907779a4bc3",
   "metadata": {},
   "outputs": [],
   "source": [
    "df = pd.read_csv('HardTableR2-2021-100-score5_ml_test.csv')\n",
    "df2 = pd.read_csv('2T-2020-100-v2_ml.csv')\n",
    "df3 = pd.read_csv('HardTableR3-2021-100-score4_ml_test.csv')\n",
    "df_final = pd.concat([df, df2, df3])\n",
    "df_final.to_csv(\"final_ml.csv\", index_label=None, index=None)"
   ]
  },
  {
   "cell_type": "code",
   "execution_count": 84,
   "id": "7c7f5110-970c-4ba9-a5aa-15a32814679b",
   "metadata": {},
   "outputs": [
    {
     "data": {
      "text/plain": [
       "0.3349571383278464"
      ]
     },
     "execution_count": 84,
     "metadata": {},
     "output_type": "execute_result"
    }
   ],
   "source": [
    "sum(y)/len(y)"
   ]
  },
  {
   "cell_type": "code",
   "execution_count": null,
   "id": "d9147080-15b4-4c64-a378-0f22e8ee2c9d",
   "metadata": {},
   "outputs": [],
   "source": [
    "import pandas as pd\n",
    "import numpy as np\n",
    "import joblib\n",
    "\n",
    "rf = joblib.load(\"./random_forest.joblib\")"
   ]
  },
  {
   "cell_type": "code",
   "execution_count": 63,
   "id": "4803cdb5-a565-4e62-b101-ce14529b3689",
   "metadata": {},
   "outputs": [
    {
     "data": {
      "text/plain": [
       "array([0.09141486, 0.04343958, 0.04902139, 0.06524371, 0.09621455,\n",
       "       0.10722025, 0.01320896, 0.02345997, 0.04253187, 0.05732745,\n",
       "       0.02024767, 0.18654882, 0.07979572, 0.1243252 ])"
      ]
     },
     "execution_count": 63,
     "metadata": {},
     "output_type": "execute_result"
    }
   ],
   "source": [
    "rf.feature_importances_"
   ]
  },
  {
   "cell_type": "code",
   "execution_count": 77,
   "id": "9dab98b0-6997-4e61-af62-035b59d079da",
   "metadata": {},
   "outputs": [
    {
     "data": {
      "text/plain": [
       "{'ed': 0.114,\n",
       " 'jaccard': 0.044,\n",
       " 'jaccardNgram': 0.055,\n",
       " 'obj': 0.074,\n",
       " 'lit': 0.09,\n",
       " 'rel': 0.189,\n",
       " 'pn': 0.015,\n",
       " 'desc': 0.022,\n",
       " 'descNgram': 0.043,\n",
       " 'cpa': 0.051,\n",
       " 'cpaMax': 0.018,\n",
       " 'cta': 0.185,\n",
       " 'ctaMax': 0.101,\n",
       " 'pop': 0.0}"
      ]
     },
     "execution_count": 77,
     "metadata": {},
     "output_type": "execute_result"
    }
   ],
   "source": [
    "max_score = 1\n",
    "{feature:round(rf.feature_importances_[i]*max_score, 3) for i, feature in enumerate(X_train.columns)}"
   ]
  },
  {
   "cell_type": "code",
   "execution_count": 70,
   "id": "d17e6fc3-418e-4ab9-86fe-426b7dc55c2f",
   "metadata": {},
   "outputs": [
    {
     "data": {
      "text/plain": [
       "{'ed': 0.091,\n",
       " 'jaccard': 0.043,\n",
       " 'jaccardNgram': 0.049,\n",
       " 'obj': 0.065,\n",
       " 'lit': 0.096,\n",
       " 'rel': 0.107,\n",
       " 'pn': 0.013,\n",
       " 'desc': 0.023,\n",
       " 'descNgram': 0.043,\n",
       " 'cpa': 0.057,\n",
       " 'cpaMax': 0.02,\n",
       " 'cta': 0.187,\n",
       " 'ctaMax': 0.08,\n",
       " 'pop': 0.124}"
      ]
     },
     "execution_count": 70,
     "metadata": {},
     "output_type": "execute_result"
    }
   ],
   "source": [
    "max_score = 1\n",
    "{feature:round(rf.feature_importances_[i]*max_score, 3) for i, feature in enumerate(X_train.columns)}"
   ]
  },
  {
   "cell_type": "code",
   "execution_count": 79,
   "id": "3d4e31a7-67b7-4d9a-99cb-9faaea4384a0",
   "metadata": {},
   "outputs": [
    {
     "data": {
      "text/plain": [
       "<AxesSubplot:>"
      ]
     },
     "execution_count": 79,
     "metadata": {},
     "output_type": "execute_result"
    },
    {
     "data": {
      "image/png": "[encoded data removed]",
      "text/plain": [
       "<Figure size 432x288 with 1 Axes>"
      ]
     },
     "metadata": {
      "needs_background": "light"
     },
     "output_type": "display_data"
    }
   ],
   "source": [
    "from matplotlib.pyplot import figure\n",
    "feat_importances = pd.Series(rf.feature_importances_, index = X_train.columns).sort_values(ascending = True)\n",
    "feat_importances.plot(kind = 'barh')"
   ]
  },
  {
   "cell_type": "code",
   "execution_count": 82,
   "id": "79c5110f-96d5-4bd3-b5ec-ffcf9bdaa77e",
   "metadata": {},
   "outputs": [
    {
     "data": {
      "text/plain": [
       "<AxesSubplot:>"
      ]
     },
     "execution_count": 82,
     "metadata": {},
     "output_type": "execute_result"
    },
    {
     "data": {
      "image/png": "[encoded data removed]",
      "text/plain": [
       "<Figure size 432x288 with 1 Axes>"
      ]
     },
     "metadata": {
      "needs_background": "light"
     },
     "output_type": "display_data"
    }
   ],
   "source": [
    "from matplotlib.pyplot import figure\n",
    "feat_importances = pd.Series(rf.feature_importances_, index = X_train.columns).sort_values(ascending = True)\n",
    "feat_importances.plot(kind = 'barh')"
   ]
  },
  {
   "cell_type": "code",
   "execution_count": 85,
   "id": "4b0dfd65-6d44-440b-a6b9-732b72861767",
   "metadata": {},
   "outputs": [
    {
     "data": {
      "text/plain": [
       "<AxesSubplot:>"
      ]
     },
     "execution_count": 85,
     "metadata": {},
     "output_type": "execute_result"
    },
    {
     "data": {
      "image/png": "[encoded data removed]",
      "text/plain": [
       "<Figure size 432x288 with 1 Axes>"
      ]
     },
     "metadata": {
      "needs_background": "light"
     },
     "output_type": "display_data"
    }
   ],
   "source": [
    "from matplotlib.pyplot import figure\n",
    "feat_importances = pd.Series(rf.feature_importances_, index = X_train.columns).sort_values(ascending = True)\n",
    "feat_importances.plot(kind = 'barh')"
   ]
  },
  {
   "cell_type": "code",
   "execution_count": null,
   "id": "6ae78d8e-1c35-40a7-9833-e95d89830822",
   "metadata": {},
   "outputs": [],
   "source": []
  }
 ],
 "metadata": {
  "kernelspec": {
   "display_name": "Python 3 (ipykernel)",
   "language": "python",
   "name": "python3"
  },
  "language_info": {
   "codemirror_mode": {
    "name": "ipython",
    "version": 3
   },
   "file_extension": ".py",
   "mimetype": "text/x-python",
   "name": "python",
   "nbconvert_exporter": "python",
   "pygments_lexer": "ipython3",
   "version": "3.10.5"
  }
 },
 "nbformat": 4,
 "nbformat_minor": 5
}
