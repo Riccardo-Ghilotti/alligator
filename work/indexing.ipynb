{
 "cells": [
  {
   "cell_type": "code",
   "execution_count": 1,
   "id": "4e0dff33-bffe-40ae-86a9-04f0cd777677",
   "metadata": {
    "tags": []
   },
   "outputs": [
    {
     "data": {
      "text/plain": [
       "'cell_1_type_1_kg_1_size_1'"
      ]
     },
     "execution_count": 1,
     "metadata": {},
     "output_type": "execute_result"
    }
   ],
   "source": [
    "from process.wrapper.mongodb_conn import get_collection\n",
    "\n",
    "cell_c = get_collection('cell')\n",
    "cell_c.create_index([('cell', 1), ('type', 1), ('kg', 1), ('size', 1)], unique=True)\n",
    "cell_c = get_collection('candidate')\n",
    "cell_c.create_index([('cell', 1), ('type', 1), ('kg', 1), ('size', 1)], unique=True)"
   ]
  },
  {
   "cell_type": "code",
   "execution_count": 2,
   "id": "3760efb5-3a7a-4496-8f5e-ac1ca250eb89",
   "metadata": {},
   "outputs": [
    {
     "data": {
      "text/plain": [
       "'dataset_1'"
      ]
     },
     "execution_count": 2,
     "metadata": {},
     "output_type": "execute_result"
    }
   ],
   "source": [
    "col = ['cea', 'cta', 'cpa', 'ceaInit', 'candidateScored', 'table', 'headerCandidateScored', 'ceaHeader']\n",
    "for c in col:\n",
    "    c = get_collection(c)\n",
    "    c.create_index([('idDataset', 1)])\n",
    "c = get_collection('row')\n",
    "c.create_index([('dataset', 1)])"
   ]
  },
  {
   "cell_type": "code",
   "execution_count": 8,
   "id": "82f0eb6a-a2ec-4644-9faf-a35917ca29ce",
   "metadata": {},
   "outputs": [
    {
     "data": {
      "text/plain": [
       "'dataset_1_name_1'"
      ]
     },
     "execution_count": 8,
     "metadata": {},
     "output_type": "execute_result"
    }
   ],
   "source": [
    "c = get_collection('table')\n",
    "c.create_index([('dataset', 1)])\n",
    "c.create_index([('dataset', 1), ('name', 1)])"
   ]
  },
  {
   "cell_type": "code",
   "execution_count": 4,
   "id": "e24e41d5-4a12-44c9-b9cd-336944374371",
   "metadata": {
    "tags": []
   },
   "outputs": [
    {
     "name": "stderr",
     "output_type": "stream",
     "text": [
      "100%|██████████| 6/6 [00:00<00:00, 137.05it/s]\n"
     ]
    }
   ],
   "source": [
    "from tqdm import tqdm\n",
    "dataset = {\n",
    "    \"Round1_T2D\": {\n",
    "        \"tables\": \"./data/Dataset/Round1_T2D/tables\",\n",
    "        \"cea\":\"./data/Dataset/Round1_T2D/gt/CEA_Round1_gt.csv\",\n",
    "        \"cpa\":\"./data/Dataset/Round1_T2D/gt/CPA_Round1_gt.csv\",\n",
    "        \"cta\": \"./data/Dataset/Round1_T2D/gt/CTA_Round1_gt.csv\"\n",
    "    },\n",
    "    \"Round3\": {\n",
    "        \"tables\": \"./data/Dataset/Round3_2019/tables/\",\n",
    "        \"cea\":\"./data/Dataset/Round3_2019/gt/CEA_Round3_gt.csv\",\n",
    "        \"cpa\":\"./data/Dataset/Round3_2019/gt/CPA_Round3_gt.csv\",\n",
    "        \"cta\": \"./data/Dataset/Round3_2019/gt/CTA_Round3_gt.csv\"\n",
    "    },\n",
    "    \"Round4\": {\n",
    "        \"tables\": \"./data/Dataset/Round4_2020/tables/\",\n",
    "        \"cea\":\"./data/Dataset/Round4_2020/gt/cea.csv\",\n",
    "        \"cpa\":\"./data/Dataset/Round4_2020/gt/cpa.csv\",\n",
    "        \"cta\": \"./data/Dataset/Round4_2020/gt/cta.csv\"\n",
    "    },\n",
    "    \"2T-2020\": {\n",
    "        \"tables\":\"./data/Dataset/2T_Round4/tables/\", \n",
    "        \"cea\":\"./data/Dataset/2T_Round4/gt/cea.csv\",\n",
    "        \"cpa\": None,\n",
    "        \"cta\": \"./data/Dataset/2T_Round4/gt/cta.csv\"\n",
    "    },\n",
    "    \"HardTableR2-2021\": {\n",
    "        \"tables\":\"./data/Dataset/HardTablesR2/tables/\", \n",
    "        \"cea\":\"./data/Dataset/HardTablesR2/gt/cea.csv\",\n",
    "        \"cpa\":\"./data/Dataset/HardTablesR2/gt/cpa.csv\",\n",
    "        \"cta\": \"./data/Dataset/HardTablesR2/gt/cta.csv\"\n",
    "    },\n",
    "    \"HardTableR3-2021\": {\n",
    "        \"tables\":\"./data/Dataset/HardTablesR3/tables/\", \n",
    "        \"cea\":\"./data/Dataset/HardTablesR3/gt/cea.csv\",\n",
    "        \"cpa\":\"./data/Dataset/HardTablesR3/gt/cpa.csv\",\n",
    "        \"cta\": \"./data/Dataset/HardTablesR3/gt/cta.csv\"\n",
    "    }\n",
    "}\n",
    "\n",
    "\n",
    "for id_dataset in tqdm(dataset):\n",
    "    id_dataset = f\"{id_dataset}_100_m4\"\n",
    "    col = ['cea', 'cta', 'cpa', 'ceaInit', 'ceaPrelinking', 'candidateScored', 'headerCandidateScored', 'ceaHeader']\n",
    "    for c in col:\n",
    "        c = get_collection(c)\n",
    "        c.delete_many({\"datasetName\": id_dataset})\n",
    "    c = get_collection('row')\n",
    "    c.delete_many({\"datasetName\": id_dataset})\n",
    "    c = get_collection('dataset')\n",
    "    c.delete_many({\"datasetName\": id_dataset})\n",
    "    c = get_collection('table')\n",
    "    c.delete_many({\"datasetName\": id_dataset})\n",
    "    c = get_collection('job')\n",
    "    c.delete_many({\"name\": id_dataset})"
   ]
  },
  {
   "cell_type": "code",
   "execution_count": 6,
   "id": "690202e7-ce4c-41fe-b56f-fc41d14b096e",
   "metadata": {},
   "outputs": [
    {
     "data": {
      "text/plain": [
       "<pymongo.results.DeleteResult at 0x7f30c4d6a560>"
      ]
     },
     "execution_count": 6,
     "metadata": {},
     "output_type": "execute_result"
    }
   ],
   "source": [
    "id_dataset = f\"Round1_T2D_10_i2\"\n",
    "col = ['cea', 'cta', 'cpa', 'ceaInit', 'ceaPrelinking', 'candidateScored', 'headerCandidateScored', 'ceaHeader']\n",
    "for c in col:\n",
    "    c = get_collection(c)\n",
    "    c.delete_many({\"idDataset\": id_dataset})\n",
    "c = get_collection('row')\n",
    "c.delete_many({\"dataset\": id_dataset})\n",
    "c = get_collection('dataset')\n",
    "c.delete_many({\"name\": id_dataset})\n",
    "c = get_collection('table')\n",
    "c.delete_many({\"dataset\": id_dataset})\n",
    "c = get_collection('job')\n",
    "c.delete_many({\"name\": id_dataset})"
   ]
  },
  {
   "cell_type": "code",
   "execution_count": null,
   "id": "b3a59e32-fd9a-48ff-9238-e57829666d69",
   "metadata": {},
   "outputs": [],
   "source": []
  },
  {
   "cell_type": "markdown",
   "id": "af987f10",
   "metadata": {},
   "source": [
    "#REMOVE ALL"
   ]
  },
  {
   "cell_type": "code",
   "execution_count": null,
   "id": "7575c4f4",
   "metadata": {},
   "outputs": [],
   "source": [
    "col = ['cea', 'cta', 'cpa', 'ceaInit', 'candidateScored']\n",
    "for c in col:\n",
    "    c = get_collection(c)\n",
    "    c.delete_many({})\n",
    "c = get_collection('row')\n",
    "c.delete_many({})"
   ]
  },
  {
   "cell_type": "code",
   "execution_count": 1,
   "id": "79fd5e67-7b32-45c2-910c-10995304a8a8",
   "metadata": {},
   "outputs": [],
   "source": [
    "import time\n",
    "from process.mongodb_conn import get_collection\n",
    "\n",
    "dataset_c = get_collection('dataset')\n",
    "row_c = get_collection('rows')\n",
    "\n",
    "\n",
    "dataset_in_doing = row_c.aggregate([{\"$match\": {\"status\": \"DOING\"}}, { \"$group\": {\"_id\": \"$dataset\"}}])"
   ]
  },
  {
   "cell_type": "code",
   "execution_count": 5,
   "id": "0c5e0857-d00e-49f5-b52f-405a96f8d1c2",
   "metadata": {},
   "outputs": [
    {
     "data": {
      "text/plain": [
       "<pymongo.results.InsertOneResult at 0x7f08d9df81f0>"
      ]
     },
     "execution_count": 5,
     "metadata": {},
     "output_type": "execute_result"
    }
   ],
   "source": [
    "dataset_c.insert_one({\n",
    "            \"name\": \"test\",\n",
    "            \"blocks\": {\n",
    "                \"TODO\":0, \n",
    "                \"DOING\": 0, \n",
    "                \"DONE\": 0\n",
    "            },\n",
    "            \"elapsedTime\": time.time(),\n",
    "            \"%\": 0,\n",
    "            \"estimatedTime\": None\n",
    "        })"
   ]
  },
  {
   "cell_type": "code",
   "execution_count": 12,
   "id": "f7e94e19-32e0-41d6-8c99-2635475d7483",
   "metadata": {},
   "outputs": [],
   "source": [
    "from process.mongodb_conn import get_collection\n",
    "\n",
    "dataset_c = get_collection('job')\n",
    "result = dataset_c.aggregate([{ \"$group\" : { \"_id\": None, \"max\": { \"$max\" : \"$page\" }}}])"
   ]
  },
  {
   "cell_type": "code",
   "execution_count": 13,
   "id": "d8f1737d-c569-4218-8840-5a2528ccd1e7",
   "metadata": {},
   "outputs": [
    {
     "data": {
      "text/plain": [
       "3"
      ]
     },
     "execution_count": 13,
     "metadata": {},
     "output_type": "execute_result"
    }
   ],
   "source": [
    "dataset_c.count_documents({\"page\": list(result)[0][\"max\"]})"
   ]
  }
 ],
 "metadata": {
  "interpreter": {
   "hash": "31f2aee4e71d21fbe5cf8b01ff0e069b9275f58929596ceb00d14d90e3e16cd6"
  },
  "kernelspec": {
   "display_name": "Python 3 (ipykernel)",
   "language": "python",
   "name": "python3"
  },
  "language_info": {
   "codemirror_mode": {
    "name": "ipython",
    "version": 3
   },
   "file_extension": ".py",
   "mimetype": "text/x-python",
   "name": "python",
   "nbconvert_exporter": "python",
   "pygments_lexer": "ipython3",
   "version": "3.10.9"
  }
 },
 "nbformat": 4,
 "nbformat_minor": 5
}
